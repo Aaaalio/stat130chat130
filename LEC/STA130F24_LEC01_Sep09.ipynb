{
 "cells": [
  {
   "cell_type": "markdown",
   "id": "33b5002b",
   "metadata": {},
   "source": [
    "# Lecture Topics\n",
    "\n",
    "- `import pandas as pd`\n",
    "- `df = pd.read_csv(\"path/to/file.csv\", encoding=\"ISO-8859-1\")`\n",
    "- `df.describe()`\n",
    "- `df.isnull().sum(axis=0)` and coercion\n",
    "- `>` and `==` veresus `=`\n",
    "- subsetting `[]`versus `df.loc[]` versus `df.iloc[]`\n",
    "- assigning `df[col]` \n",
    "- `df.dropna()`\n",
    "- `df.groupby()`\n",
    "- Stretch Goal: `df.value_counts()` and `df.sort_values()`"
   ]
  },
  {
   "cell_type": "markdown",
   "id": "50569558",
   "metadata": {},
   "source": [
    "# deferred... delayed?\n",
    "- logical and or (& and |)\n",
    "- df.dtypes\n",
    "- df.column\n",
    "- df['column']\n"
   ]
  }
 ],
 "metadata": {
  "kernelspec": {
   "display_name": "Python 3 (ipykernel)",
   "language": "python",
   "name": "python3"
  },
  "language_info": {
   "codemirror_mode": {
    "name": "ipython",
    "version": 3
   },
   "file_extension": ".py",
   "mimetype": "text/x-python",
   "name": "python",
   "nbconvert_exporter": "python",
   "pygments_lexer": "ipython3",
   "version": "3.11.6"
  }
 },
 "nbformat": 4,
 "nbformat_minor": 5
}
