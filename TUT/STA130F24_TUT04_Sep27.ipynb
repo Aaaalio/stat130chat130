{
  "nbformat": 4,
  "nbformat_minor": 0,
  "metadata": {
    "colab": {
      "provenance": []
    },
    "kernelspec": {
      "name": "python3",
      "display_name": "Python 3"
    },
    "language_info": {
      "name": "python"
    }
  },
  "cells": [
    {
      "cell_type": "markdown",
      "source": [
        "### Review part 1 [10 Min]:\n",
        "\n",
        "What is a histogram and what does it show?"
      ],
      "metadata": {
        "id": "aW9NVz2Np6Ei"
      }
    },
    {
      "cell_type": "markdown",
      "source": [
        "### Review part 2 [20 Min]:\n",
        "\n",
        "Look at the picture for the data about coffee beans:\n",
        "\n",
        "[Coffee Beans](https://github.com/pointOfive/STA130_F23/blob/main/Tutorial/im/3/coffee_plots.JPG)\n",
        "\n",
        "Now talk to you group and discribe the data usign what you have leanred in class.\n",
        "\n",
        "Note: At the end the TA can go throught the main observations so everyone can get the review"
      ],
      "metadata": {
        "id": "3ECdQVJEtT3x"
      }
    },
    {
      "cell_type": "markdown",
      "source": [
        "### Normal Distributions [20 min]\n",
        "\n",
        "- [Normal Distribution](https://https://www.google.com/url?sa=i&url=https%3A%2F%2Fwww.scribbr.com%2Fstatistics%2Fnormal-distribution%2F&psig=AOvVaw0xQDOX6qolwHo-eWPSKUrz&ust=1715987721207000&source=images&cd=vfe&opi=89978449&ved=0CBIQjRxqFwoTCPCK7sWmk4YDFQAAAAAdAAAAABAY)\n",
        "\n",
        "- [Left/Right Skew](https://https://github.com/pointOfive/STA130_F23/blob/main/Tutorial/im/3/skew.JPG)"
      ],
      "metadata": {
        "id": "q1y4dx7iqfFt"
      }
    },
    {
      "cell_type": "markdown",
      "source": [
        "### More About Histiograms [20 min]:\n",
        "\n",
        "- [Skew/ Modality](https://https://github.com/pointOfive/STA130_F23/blob/main/Tutorial/im/3/skew_modality.png)\n",
        "\n",
        "- [Skew in Box Plots](https://)\n",
        "\n",
        "\n"
      ],
      "metadata": {
        "id": "OsY7SGTsqIIv"
      }
    },
    {
      "cell_type": "markdown",
      "source": [
        "### Small Activity [15 Min]:\n",
        "\n",
        "Look at the picture of the distrubutions and match them with the categories bellow:\n",
        "\n",
        "[Question Link](https://github.com/pointOfive/STA130_F23/blob/main/Tutorial/im/3/Quiz2-Question2.png)\n",
        "\n",
        "1. Variables have similar means and similar variances\n",
        "2. Variables have similar means but quite different variances\n",
        "3. Variables have similar variances but quite different means\n",
        "4. Variables have quite different means and quite different variances\n"
      ],
      "metadata": {
        "id": "2wIwWNZkqCNR"
      }
    },
    {
      "cell_type": "markdown",
      "source": [
        "### Activity [15 minutes]:\n",
        "\n",
        "Watch this video, you will be disgussing it with your groups afterwards\n",
        "\n",
        "[link text](https://youtu.be/Xz0x-8-cgaQ?si=vWdRwKclNxASv1qL)\n"
      ],
      "metadata": {
        "id": "nSvKrZn8eEAY"
      }
    },
    {
      "cell_type": "markdown",
      "source": [
        "### Discussion: [20 min]\n",
        "\n",
        "Answer the follwoing questions with the people arond you.\n",
        "\n",
        "- In one sentece what is the main perpose of bootstrapping?\n",
        "- What are the four steps of bootstrapping?\n",
        "- The video talks about hypothesis testing a little bit. What does it mean to do hypothesis testing in the context of the video?\n"
      ],
      "metadata": {
        "id": "Q_hy6xCxfpg9"
      }
    },
    {
      "cell_type": "code",
      "execution_count": null,
      "metadata": {
        "id": "N-pNFsvSdppJ"
      },
      "outputs": [],
      "source": []
    }
  ]
}