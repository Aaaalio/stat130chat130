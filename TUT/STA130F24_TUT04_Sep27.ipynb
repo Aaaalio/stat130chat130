{
 "cells": [
  {
   "cell_type": "markdown",
   "metadata": {
    "id": "aW9NVz2Np6Ei"
   },
   "source": [
    "### Review part [20 Min]:\n",
    "\n",
    "1. See Sep20 TUT and Sep23 LEC\n",
    "\n",
    "    1. What is a histogram and what does it describe about the data?\n",
    "\n",
    "    2. What general conclusions regarding the use of barplots and histograms regarding comparisions sample size considerations can we make from the following examples?"
   ]
  },
  {
   "cell_type": "code",
   "execution_count": null,
   "metadata": {},
   "outputs": [],
   "source": [
    "import pandas as pd\n",
    "import plotly.express as px\n",
    "import plotly.offline as pyo\n",
    "import plotly.graph_objects as go\n",
    "pyo.init_notebook_mode()\n",
    "\n",
    "from scipy import stats\n",
    "import numpy as np"
   ]
  },
  {
   "cell_type": "code",
   "execution_count": null,
   "metadata": {},
   "outputs": [],
   "source": [
    "# load / reset df\n",
    "df = pd.read_csv(\"https://raw.githubusercontent.com/rfordatascience/tidytuesday/2e9bd5a67e09b14d01f616b00f7f7e0931515d24/data/2020/2020-07-07/coffee_ratings.csv\")\n",
    "df = df[df['total_cup_points']>65]\n",
    "df = df[~df['country_of_origin'].isna()]\n",
    "df = df.rename(columns={'country_of_origin': 'origin', 'total_cup_points': 'points'})"
   ]
  },
  {
   "cell_type": "code",
   "execution_count": null,
   "metadata": {},
   "outputs": [],
   "source": [
    "# fix titles\n",
    "df.origin = df.origin.str.replace(\" (\", \"<br>(\")\n",
    "df.origin = df.origin.str.replace(\", \", \",<br>\")\n",
    "\n",
    "fig = px.histogram(df, x='points', facet_col='origin', \n",
    "             facet_col_wrap=6, height=1000, facet_row_spacing=0.05)\n",
    "\n",
    "fig.for_each_annotation(lambda a: a.update(text=a.text.replace(\"origin=\", \"\"))) # fix titles"
   ]
  },
  {
   "cell_type": "code",
   "execution_count": null,
   "metadata": {},
   "outputs": [],
   "source": [
    "df.origin = df.origin.str.replace(\"<br>\", \" \") # fix labels\n",
    "\n",
    "fig = px.box(df, x='points', y=\"origin\", height=750)\n",
    "\n",
    "# order plot to be more visually interpretable\n",
    "fig.update_yaxes(categoryorder='array', \n",
    "                 categoryarray=df.groupby(\"origin\")['points'].mean().sort_values().index)"
   ]
  },
  {
   "cell_type": "code",
   "execution_count": null,
   "metadata": {},
   "outputs": [],
   "source": [
    "# add in missing sample sizes\n",
    "keys = df.origin.value_counts().index.values\n",
    "vals = df.origin.value_counts().index.values + \" (n=\"+df.origin.value_counts().values.astype(str)+\")\"\n",
    "df.origin = df.origin.map({k:v for k,v in zip(keys,vals)})\n",
    "\n",
    "fig = px.box(df, x='points', y=\"origin\", height=750)\n",
    "fig.update_yaxes(categoryorder='array', \n",
    "                 categoryarray=df.groupby(\"origin\")['points'].mean().sort_values().index)"
   ]
  },
  {
   "cell_type": "markdown",
   "metadata": {
    "id": "q1y4dx7iqfFt"
   },
   "source": [
    "### Demo [40 minutes]\n",
    "\n",
    "#### Estimating Averages [20/40 minutes]\n",
    "\n",
    "1. For which countries above do you think we can most accurately estimate the average \"points\" score of cups of coffee from a given country? \n",
    "2. How does the variability of means of simulated samples change as a function of sample size?\n",
    "3. Does this seem to change if using (symmetric) `normal`, (skewed) `gamma`, or (other empirical shapes) when using **bootstrapped samples**? \n"
   ]
  },
  {
   "cell_type": "code",
   "execution_count": null,
   "metadata": {},
   "outputs": [],
   "source": [
    "# fix titles\n",
    "df.origin = df.origin.str.replace(\" (\", \"<br>(\")\n",
    "df.origin = df.origin.str.replace(\", \", \",<br>\")\n",
    "\n",
    "fig = px.histogram(df, x='points', facet_col='origin', \n",
    "                   facet_col_wrap=6, height=1000, facet_row_spacing=0.05)\n",
    "\n",
    "fig.for_each_annotation(lambda a: a.update(text=a.text.replace(\"origin=\", \"\"))) # fix titles\n",
    "\n",
    "for i,average in enumerate(dict(df.groupby('origin').points.mean()[df.origin.unique()]).values()):\n",
    "    fig.add_vline(x=average, line_dash=\"dot\", row=6-int(i/6), col=(1+i)%6)\n",
    "fig.show()"
   ]
  },
  {
   "cell_type": "code",
   "execution_count": null,
   "metadata": {
    "scrolled": false
   },
   "outputs": [],
   "source": [
    "# population model\n",
    "pop_parameter_mu_μ = 0\n",
    "pop_parameter_sigma_σ = 1\n",
    "normal_distribution = stats.norm(loc=pop_parameter_mu_μ, scale=pop_parameter_sigma_σ) \n",
    "\n",
    "n = 100 # adjust and experiment with this\n",
    "# np.random.seed(130)\n",
    "x = normal_distribution.rvs(size=n) # \"x\" is a sample\n",
    "\n",
    "print(\"The sample mean for the current sample is\", x.mean()) \n",
    "# sample average \"x-bar\" a (sample) \"statistic\" (not a parameter)\n",
    "print(x)\n",
    "fig = px.histogram(pd.DataFrame({'sampled values': x}), x='sampled values',\n",
    "                   histnorm='probability density') # so the scale matches the pdf below\n",
    "fig.add_vline(x=x.mean(), line_dash=\"dot\", annotation_text='Sample mean '+str(x.mean()))\n",
    "\n",
    "# pdf stands for \"probability density function\"\n",
    "support = np.linspace(-4,4,100)\n",
    "fig.add_trace(go.Scatter(x=support, y=normal_distribution.pdf(support), \n",
    "                         mode='lines', name='Poulation Model<br>(normal distribution)'))"
   ]
  },
  {
   "cell_type": "code",
   "execution_count": null,
   "metadata": {},
   "outputs": [],
   "source": [
    "number_of_simulations = 1000 # adjust and experiment with this\n",
    "simulated_means = np.zeros(number_of_simulations)\n",
    "\n",
    "# np.random.seed(130) # ?\n",
    "n = 100 # adjust and experiment with this\n",
    "\n",
    "for i in range(number_of_simulations):\n",
    "    # np.random.seed(130) # ?\n",
    "    simulated_means[i] = stats.norm(loc=0, scale=1).rvs(size=n).mean()\n",
    "\n",
    "title = str(number_of_simulations)+' simulated means for sample of size n = '+str(n)\n",
    "fig = px.histogram(pd.DataFrame({title: simulated_means}), x=title,\n",
    "                   histnorm='probability density')    \n",
    "\n",
    "support = np.linspace(simulated_means.min(),simulated_means.max(),100)\n",
    "fig.add_trace(go.Scatter(x=support, y=stats.norm(0,scale=1/np.sqrt(n)).pdf(support), \n",
    "                         mode='lines', name='A theoretical<br>distribution of<br>\"averages\"'))"
   ]
  },
  {
   "cell_type": "code",
   "execution_count": null,
   "metadata": {},
   "outputs": [],
   "source": [
    "# population model\n",
    "pop_parameter_alpha_α = 2\n",
    "pop_parameter_theta_θ = 4\n",
    "gamma_distribution = stats.gamma(a=pop_parameter_alpha_α, scale=pop_parameter_theta_θ)\n",
    "\n",
    "n = 100 # adjust and experiment with this\n",
    "# np.random.seed(130)\n",
    "x = gamma_distribution.rvs(size=n) # \"x\" is a sample\n",
    "\n",
    "print(\"The sample mean for the current sample is\", x.mean()) \n",
    "# sample average \"x-bar\" a (sample) \"statistic\" (not a parameter)\n",
    "# print(x)\n",
    "\n",
    "fig = px.histogram(pd.DataFrame({'sampled values': x}), x='sampled values',\n",
    "                   histnorm='probability density') # so the scale matches the pdf below\n",
    "fig.add_vline(x=x.mean(), line_dash=\"dot\", annotation_text='Sample mean '+str(x.mean()))\n",
    "\n",
    "support = np.linspace(0,50,100)\n",
    "fig.add_trace(go.Scatter(x=support, y=gamma_distribution.pdf(support), \n",
    "                         mode='lines', name='Poulation Model<br>(gamma distribution)'))\n",
    "# pdf stands for \"probability density function\""
   ]
  },
  {
   "cell_type": "code",
   "execution_count": null,
   "metadata": {},
   "outputs": [],
   "source": [
    "number_of_simulations = 1000 # adjust and experiment with this\n",
    "simulated_means = np.zeros(number_of_simulations)\n",
    "\n",
    "# np.random.seed(130) # ?\n",
    "n = 100 # adjust and experiment with this\n",
    "\n",
    "for i in range(number_of_simulations):\n",
    "    # np.random.seed(130) # ?\n",
    "    simulated_means[i] = stats.norm(loc=0, scale=1).rvs(size=n).mean()\n",
    "\n",
    "title = str(number_of_simulations)+' simulated means for sample of size n = '+str(n)\n",
    "fig = px.histogram(pd.DataFrame({title: simulated_means}), x=title,\n",
    "                   histnorm='probability density')    \n",
    "\n",
    "support = np.linspace(simulated_means.min(),simulated_means.max(),100)\n",
    "fig.add_trace(go.Scatter(x=support, y=stats.norm(0,scale=1/np.sqrt(n)).pdf(support), \n",
    "                         mode='lines', name='A theoretical<br>distribution of<br>\"averages\"'))"
   ]
  },
  {
   "cell_type": "markdown",
   "metadata": {
    "id": "OsY7SGTsqIIv"
   },
   "source": [
    "#### Bootstrapping [20/40 minutes]: pretending a sample is the population\n",
    "\n",
    "1. Why `replace=False`?\n",
    "2. Why is `n` the same as the original sample size?"
   ]
  },
  {
   "cell_type": "code",
   "execution_count": null,
   "metadata": {},
   "outputs": [],
   "source": [
    "keep = (df.origin=='Guatemala') | (df.origin=='Mexico')\n",
    "px.histogram(df[keep], x='points', facet_col='origin', facet_col_wrap=2, height=300)"
   ]
  },
  {
   "cell_type": "code",
   "execution_count": null,
   "metadata": {},
   "outputs": [],
   "source": [
    "contry = 'Mexico' \n",
    "\n",
    "# bootstrapping is when `replace=True` and `n` is the original sample size\n",
    "# and we do this over and over to see the behavior of sample statistics\n",
    "n_ = (df.origin==contry).sum() # ?\n",
    "replace_ = True # ?\n",
    "\n",
    "x = df[df.origin==contry].sample(n=n_, replace=replace_).points\n",
    "print(\"The sample mean for the current sample is\", x.mean()) \n",
    "# sample average \"x-bar\" a (sample) \"statistic\" (not a parameter)\n",
    "\n",
    "dat = pd.DataFrame({'values': np.r_[df[df.origin==contry].points.values,x],\n",
    "                    'sample': np.r_[['Orginal Sample']*(df.origin==contry).sum(),\n",
    "                                    ['Bootstrap Sample']*n_]})             \n",
    "\n",
    "fig = px.histogram(dat, x=\"values\", color=\"sample\", barmode=\"overlay\")\n",
    "fig.add_vline(x=x.mean(), line_dash=\"dot\", annotation_text='Sample mean '+str(x.mean()))\n",
    "fig.update_layout(yaxis_range=[0,30])\n",
    "# Notice that we don't have a \"Poulation Model\"... only the \"Original Sample\""
   ]
  },
  {
   "cell_type": "code",
   "execution_count": null,
   "metadata": {},
   "outputs": [],
   "source": [
    "number_of_simulations = 1000 # adjust and experiment with this\n",
    "simulated_means = np.zeros(number_of_simulations)\n",
    "\n",
    "# np.random.seed(130) # ?\n",
    "n = 100 # adjust and experiment with this\n",
    "\n",
    "for i in range(number_of_simulations):\n",
    "    # np.random.seed(130) # ?\n",
    "    simulated_means[i] = df[df.origin==contry].sample(n=n_, replace=replace_).points.mean()\n",
    "\n",
    "title = str(number_of_simulations)+' simulated means for sample of size n = '+str(n)\n",
    "fig = px.histogram(pd.DataFrame({title: simulated_means}), x=title,\n",
    "                   histnorm='probability density')    \n",
    "\n",
    "support = np.linspace(simulated_means.min(),simulated_means.max(),100)\n",
    "fig.add_trace(go.Scatter(x=support, y=stats.norm(0,scale=1/np.sqrt(n)).pdf(support), \n",
    "                         mode='lines', name='A theoretical<br>distribution of<br>\"averages\"'))"
   ]
  },
  {
   "cell_type": "code",
   "execution_count": null,
   "metadata": {},
   "outputs": [],
   "source": [
    "number_of_simulations = 1000 # adjust and experiment with this\n",
    "simulated_means = np.zeros(number_of_simulations)\n",
    "\n",
    "# np.random.seed(130) # ?\n",
    "n = (df.origin==contry).sum()\n",
    "\n",
    "for i in range(number_of_simulations):\n",
    "    simulated_means[i] = stats.norm(loc=0, scale=1).rvs(size=n).mean()\n",
    "\n",
    "title = str(number_of_simulations)+' simulated means for sample of size n = '+str(n)\n",
    "fig = px.histogram(pd.DataFrame({title: simulated_means}), x=title,\n",
    "                   histnorm='probability density')    \n",
    "\n",
    "support = np.linspace(simulated_means.min(),simulated_means.max(),100)\n",
    "fig.add_trace(go.Scatter(x=support, y=stats.norm(0,scale=1/np.sqrt(n)).pdf(support), \n",
    "                         mode='lines', name='A theoretical<br>distribution of<br>\"averages\"'))"
   ]
  },
  {
   "cell_type": "markdown",
   "metadata": {
    "id": "2wIwWNZkqCNR"
   },
   "source": [
    "### Communication [40 minutes]\n",
    "\n",
    "#### Activity 1 [20/40 minutes]\n",
    "\n",
    "Break into 5 groups of students, assigning each group to one of the questions. Groups discuss questions for 5 minutes, and then each group (in order) provides their answer to the class for 3 minutes.\n",
    "\n",
    "1. What are the differences between sampling from a \"population model\" (such as a normal or gamma distribution) compared to bootstrap sampling from an original sample? \n",
    "\n",
    "2. What happens to the variability of sample mean statistics when sampling from a \"population model\" (such as a normal or gamma distribution) as the sample size (n) increases?\n",
    "\n",
    "3. Why does it make sense to consider changing the sample size when sampling from a \"population model\" (such as a normal or gamma distribution) but it does not make sense to change the sample size when considering bootstrapped samples from an original sample? \n",
    "\n",
    "4. If you had a histogram of bootstrapped sample means representing the variability of means that an observed sample of size n produces, how would you give a range estimating what the sample mean of a future sample of size n might be? \n",
    "\n",
    "5. If you had a theoretical distribution of \"averages\" representing the variability of means that an observed sample of size n produces, how would you give a range estimating what the sample mean of a future sample of size n might be? \n"
   ]
  },
  {
   "cell_type": "markdown",
   "metadata": {
    "id": "Q_hy6xCxfpg9"
   },
   "source": [
    "#### Activity 2 [20/40 minutes]\n",
    "\n",
    "Break into 3 groups of students, assigning each group to one of the questions. Groups discuss questions for 5 minutes, and then each group (in order) provides their answer to the class for 5 minutes.\n",
    "\n",
    "1. What is the process of bootstrapping?\n",
    "2. What is the main purpose of bootstrapping?\n",
    "3. If you had a hypothesis about what the average of a sample of size n from a population was, and then you observed the sample, how could you use bootstrapping as evidence in favor or against your hypothesis? \n",
    "\n"
   ]
  }
 ],
 "metadata": {
  "colab": {
   "provenance": []
  },
  "kernelspec": {
   "display_name": "Python 3 (ipykernel)",
   "language": "python",
   "name": "python3"
  },
  "language_info": {
   "codemirror_mode": {
    "name": "ipython",
    "version": 3
   },
   "file_extension": ".py",
   "mimetype": "text/x-python",
   "name": "python",
   "nbconvert_exporter": "python",
   "pygments_lexer": "ipython3",
   "version": "3.11.4"
  }
 },
 "nbformat": 4,
 "nbformat_minor": 1
}
