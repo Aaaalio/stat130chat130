{
 "cells": [
  {
   "cell_type": "markdown",
   "id": "fa8cc949",
   "metadata": {},
   "source": [
    "1. Get to [GitHub](https://github.com/pointOfive/STA130_ChatGPT) through Quercus\n",
    "2. [30 minutes] Demonstrate Jupyter Notebooks (as a \"python calculator\") and then \n",
    "    1. use [ChatGPT](https://chat.openai.com/) to help you\n",
    "        1. find an amusing, funny, or otherwise interesting data set *with missing values*\n",
    "        2. load data with `pandas` and `import`\n",
    "        3. use and understand `pd.describe`  and analyze missingness\n",
    "    2. HW1: do the same thing yourself by using ChatGPT to find an interesting data set and the python to provide summaries and analyze missingness\n",
    "    3. HW2: use ChatGPT help figure out how to use `df.dropna()`, `group_by()`, `value_counts()`, and `sort_values()` and then explain what they do by giving examples in python with your data set\n",
    "    4. HW3: describe what ChatGPT does well immediately versus what takes a little more work\n",
    "        \n",
    "3. [45 minutes] In 6 groups of 4...\n",
    "    1. Ice breakers / introductions\n",
    "    2. Monte Hall problem\n",
    "    3. World War II planes problem\n",
    "    \n",
    "4. [35 minutes] Discuss the answers to these questions\n",
    "    1. Evlauate ChatGPT's ability to correctly answer and clearly explain these \"simple statisics paradoxes\"\n",
    "    2. HW4: use ChatGPT to find and explain a new \"simple statisics paradoxes\" and then paraphrase the problem and explanation in your own words"
   ]
  }
 ],
 "metadata": {
  "kernelspec": {
   "display_name": "Python 3 (ipykernel)",
   "language": "python",
   "name": "python3"
  },
  "language_info": {
   "codemirror_mode": {
    "name": "ipython",
    "version": 3
   },
   "file_extension": ".py",
   "mimetype": "text/x-python",
   "name": "python",
   "nbconvert_exporter": "python",
   "pygments_lexer": "ipython3",
   "version": "3.11.6"
  }
 },
 "nbformat": 4,
 "nbformat_minor": 5
}
