{
 "cells": [
  {
   "cell_type": "markdown",
   "id": "adc77a47",
   "metadata": {},
   "source": [
    "### Review/Questions [5 - 10 minute]\n",
    "0. See Nov15 TUT and Nov18 LEC, Review confusion matrix and relevant \n",
    "1. If you have any questions or if there's anything unclear about the concepts we've covered so far, please drop your questions here before we dive into the ethics module."
   ]
  },
  {
   "cell_type": "markdown",
   "id": "47ca4da2",
   "metadata": {},
   "source": [
    "### Demo and open questions [50 minutes] Exploring Existing Biases and Unfairness in Clinical Trial Case Studies and the 'Adult Income' Dataset: \n",
    "\n",
    "1. Clinical Trial Confusion Matrix and Ethical Considerations\n",
    "    1. Confusion Matrix Overview and Interpretation\n",
    "    2. Class Imbalance and Ethical Considerations and Scenario"
   ]
  },
  {
   "cell_type": "markdown",
   "id": "db41f639",
   "metadata": {},
   "source": [
    "Lyme disease is a tick-borne illness that can cause severe health problems if not treated early. Early symptoms are often nonspecific and can mimic less severe viral illnesses, making accurate diagnosis necessarg. A healthcare tech company has developed a machine learning model intended to assist doctors in diagnosing Lyme disease based on symptoms, history of tick exposure, and initial blood tests. The model was tested in a clinical trial involving patients suspected of having Lyme disease based on their symptoms and exposure history. Here is the confusion matrix from the trial:\n",
    "\n",
    "\n",
    "**A. Confusion Matrix Overview and Interpretation**\n",
    "\n",
    ">|                 | Predict Disease | Predict No Disease |\n",
    ">|-----------------|-----------------|--------------------|\n",
    ">| **Disease**     | 23              | 7                  |\n",
    ">| **No Disease**  | 90              | 280                |\n",
    ">\n",
    ">\n",
    ">Interpretation and Metrics:\n",
    ">- **True Positives (TP)**: 23 - The model correctly predicted the disease.\n",
    ">- **False Negatives (FN)**: 7 - The model incorrectly predicted no disease when the disease was present.\n",
    ">- **False Positives (FP)**: 90 - The model incorrectly predicted the disease when it was absent.\n",
    ">- **True Negatives (TN)**: 280 - The model correctly predicted no disease.\n",
    ">\n",
    ">**Accuracy**: $\\frac{TP + TN}{TP + FN + FP + TN} = \\frac{23 + 280}{23 + 7 + 90 + 280} = 0.759$\n",
    ">\n",
    ">**Sensitivity** or **Recall**: $\\frac{TP}{TP + FN} = \\frac{23}{23 + 7} = 0.767$\n",
    ">\n",
    ">**Specificity**: $\\frac{TN}{FP + TN} = \\frac{280}{90 + 280} = 0.757$\n",
    "\n",
    "<br>\n",
    "\n",
    "**B. Class Imbalance and Ethical Considerations and Scenario:**\n",
    "Critical Decision-Making Scenarios\n",
    "\n",
    ">1. **Healthcare Provider Decision - Treatment Commencement**\n",
    ">   - **Context**: A provider reviews the model output before deciding to treat a patient suspected of Lyme disease.\n",
    ">   - **Question**: Should the healthcare provider initiate treatment based solely on the model’s diagnosis >considering the high rate of false positives, or should additional tests be sought first? What are the ethical >implications of either decision, especially given the risk of progression in untreated Lyme disease?\n",
    ">\n",
    "><br>\n",
    ">\n",
    ">2. **Patient Perspective - Trust in Medical Advice**\n",
    ">   - **Context**: A patient diagnosed with Lyme disease learns about the model's high false positive rate.\n",
    ">   - **Question**: How should the patient approach the decision to accept the treatment recommended based on the >model’s prediction? What steps could they take to manage their anxiety and mistrust towards the diagnosis?\n",
    ">\n",
    "><br>\n",
    ">\n",
    ">3. **Healthcare System Decision - Model Calibration**\n",
    ">   - **Context**: Administrators assess the model's impact on healthcare practices.\n",
    ">   - **Question**: Should the healthcare system recalibrate the model to adjust the sensitivity and specificity >based on the current performance metrics? Consider the implications of such a recalibration on patient care, >resource allocation, and ethical responsibilities of healthcare providers.\n"
   ]
  },
  {
   "cell_type": "markdown",
   "id": "14363a72",
   "metadata": {},
   "source": [
    "2. Observing Ethical Issues and Questionable Practices in Unfamiliar Statistical Models Using the `Adult Data` Dataset:\n",
    "\n",
    "    1. **Unfairness and Bias:**\n",
    "          - **Implications of Imbalanced Data and Historical Bias:** Examines how disproportionate representation within the dataset and historical inequities influence model predictions, potentially perpetuating past biases and affecting fairness in outcomes.\n",
    "\n",
    "    2. **Credibility and Integrity:** \n",
    "          - **Data Collection Methods:** Discusses the adequacy and representativeness of the data collection techniques used, questioning how these methods may impact the model's trustworthiness.\n",
    "          - **Model Explainability and Transparency:** Addresses the necessity for models to be both understandable and transparent in their decision-making processes, ensuring stakeholders can assess the rationale behind predictive outcomes.\n",
    "\n",
    "    3. **Accountability of Modeling:** \n",
    "          - **Positive Effect or Instruments of Harm?:** Challenges the models' applications to evaluate whether they serve as beneficial tools for decision-making or if they inadvertently become instruments of harm due to inherent biases or flawed assumptions.\n",
    "\n",
    "Data Collected from: https://archive.ics.uci.edu/dataset/2/adult"
   ]
  },
  {
   "cell_type": "markdown",
   "id": "cac89baf",
   "metadata": {},
   "source": [
    "### Data Pre-Processing"
   ]
  },
  {
   "cell_type": "code",
   "execution_count": 2,
   "id": "0589a5bb",
   "metadata": {
    "scrolled": true
   },
   "outputs": [
    {
     "data": {
      "text/html": [
       "<div>\n",
       "<style scoped>\n",
       "    .dataframe tbody tr th:only-of-type {\n",
       "        vertical-align: middle;\n",
       "    }\n",
       "\n",
       "    .dataframe tbody tr th {\n",
       "        vertical-align: top;\n",
       "    }\n",
       "\n",
       "    .dataframe thead th {\n",
       "        text-align: right;\n",
       "    }\n",
       "</style>\n",
       "<table border=\"1\" class=\"dataframe\">\n",
       "  <thead>\n",
       "    <tr style=\"text-align: right;\">\n",
       "      <th></th>\n",
       "      <th>age</th>\n",
       "      <th>education</th>\n",
       "      <th>relationship</th>\n",
       "      <th>race</th>\n",
       "      <th>sex</th>\n",
       "      <th>income</th>\n",
       "    </tr>\n",
       "  </thead>\n",
       "  <tbody>\n",
       "    <tr>\n",
       "      <th>0</th>\n",
       "      <td>39</td>\n",
       "      <td>Bachelors</td>\n",
       "      <td>Not-in-family</td>\n",
       "      <td>White</td>\n",
       "      <td>Male</td>\n",
       "      <td>&lt;=50K</td>\n",
       "    </tr>\n",
       "    <tr>\n",
       "      <th>1</th>\n",
       "      <td>50</td>\n",
       "      <td>Bachelors</td>\n",
       "      <td>Husband</td>\n",
       "      <td>White</td>\n",
       "      <td>Male</td>\n",
       "      <td>&lt;=50K</td>\n",
       "    </tr>\n",
       "    <tr>\n",
       "      <th>2</th>\n",
       "      <td>38</td>\n",
       "      <td>HS-grad</td>\n",
       "      <td>Not-in-family</td>\n",
       "      <td>White</td>\n",
       "      <td>Male</td>\n",
       "      <td>&lt;=50K</td>\n",
       "    </tr>\n",
       "    <tr>\n",
       "      <th>3</th>\n",
       "      <td>53</td>\n",
       "      <td>11th</td>\n",
       "      <td>Husband</td>\n",
       "      <td>Black</td>\n",
       "      <td>Male</td>\n",
       "      <td>&lt;=50K</td>\n",
       "    </tr>\n",
       "    <tr>\n",
       "      <th>4</th>\n",
       "      <td>28</td>\n",
       "      <td>Bachelors</td>\n",
       "      <td>Wife</td>\n",
       "      <td>Black</td>\n",
       "      <td>Female</td>\n",
       "      <td>&lt;=50K</td>\n",
       "    </tr>\n",
       "  </tbody>\n",
       "</table>\n",
       "</div>"
      ],
      "text/plain": [
       "   age  education   relationship   race     sex income\n",
       "0   39  Bachelors  Not-in-family  White    Male  <=50K\n",
       "1   50  Bachelors        Husband  White    Male  <=50K\n",
       "2   38    HS-grad  Not-in-family  White    Male  <=50K\n",
       "3   53       11th        Husband  Black    Male  <=50K\n",
       "4   28  Bachelors           Wife  Black  Female  <=50K"
      ]
     },
     "metadata": {},
     "output_type": "display_data"
    },
    {
     "data": {
      "text/plain": [
       "(32561, 6)"
      ]
     },
     "metadata": {},
     "output_type": "display_data"
    }
   ],
   "source": [
    "import pandas as pd\n",
    "import numpy as np\n",
    "from sklearn.preprocessing import StandardScaler\n",
    "from sklearn.model_selection import train_test_split\n",
    "from sklearn.linear_model import LogisticRegression\n",
    "from sklearn.metrics import confusion_matrix, accuracy_score, precision_score, recall_score, f1_score\n",
    "from sklearn.metrics import confusion_matrix, accuracy_score, precision_score, recall_score, f1_score, \\\n",
    "ConfusionMatrixDisplay\n",
    "from statsmodels.stats.outliers_influence import variance_inflation_factor\n",
    "import statsmodels.api as sm\n",
    "\n",
    "url = \"https://archive.ics.uci.edu/ml/machine-learning-databases/adult/adult.data\"\n",
    "\n",
    "column_names = [\n",
    "    \"age\", \"workclass\", \"fnlwgt\", \"education\", \"education-num\", \n",
    "    \"marital-status\", \"occupation\", \"relationship\", \"race\", \n",
    "    \"sex\", \"capital-gain\", \"capital-loss\", \"hours-per-week\", \"native-country\", \"income\"\n",
    "]\n",
    "\n",
    "data = pd.read_csv(url, names=column_names, skipinitialspace=True)\n",
    "\n",
    "df = data.copy()\n",
    "\n",
    "df = df.drop(columns=['workclass', 'marital-status', 'occupation', \n",
    "                          'capital-gain', 'capital-loss', 'hours-per-week', \n",
    "                          'native-country', 'education-num', 'fnlwgt'])\n",
    "\n",
    "display(df.head(), df.shape)"
   ]
  },
  {
   "cell_type": "code",
   "execution_count": 3,
   "id": "28957e89",
   "metadata": {
    "scrolled": true
   },
   "outputs": [
    {
     "data": {
      "text/plain": [
       "education\n",
       "HS-grad         10501\n",
       "Some-college     7291\n",
       "Bachelors        5355\n",
       "Masters          1723\n",
       "Assoc-voc        1382\n",
       "11th             1175\n",
       "Assoc-acdm       1067\n",
       "10th              933\n",
       "7th-8th           646\n",
       "Prof-school       576\n",
       "9th               514\n",
       "12th              433\n",
       "Doctorate         413\n",
       "5th-6th           333\n",
       "1st-4th           168\n",
       "Preschool          51\n",
       "Name: count, dtype: int64"
      ]
     },
     "metadata": {},
     "output_type": "display_data"
    },
    {
     "data": {
      "text/plain": [
       "sex\n",
       "Male      21790\n",
       "Female    10771\n",
       "Name: count, dtype: int64"
      ]
     },
     "metadata": {},
     "output_type": "display_data"
    },
    {
     "data": {
      "text/plain": [
       "race\n",
       "White                 27816\n",
       "Black                  3124\n",
       "Asian-Pac-Islander     1039\n",
       "Amer-Indian-Eskimo      311\n",
       "Other                   271\n",
       "Name: count, dtype: int64"
      ]
     },
     "metadata": {},
     "output_type": "display_data"
    },
    {
     "data": {
      "text/plain": [
       "relationship\n",
       "Husband           13193\n",
       "Not-in-family      8305\n",
       "Own-child          5068\n",
       "Unmarried          3446\n",
       "Wife               1568\n",
       "Other-relative      981\n",
       "Name: count, dtype: int64"
      ]
     },
     "metadata": {},
     "output_type": "display_data"
    },
    {
     "data": {
      "text/plain": [
       "income\n",
       "<=50K    24720\n",
       ">50K      7841\n",
       "Name: count, dtype: int64"
      ]
     },
     "metadata": {},
     "output_type": "display_data"
    }
   ],
   "source": [
    "# Inbalance data distribution\n",
    "education_counts = df['education'].value_counts()\n",
    "sex = df['sex'].value_counts()\n",
    "race = df['race'].value_counts()\n",
    "relationship = df['relationship'].value_counts()\n",
    "income = df['income'].value_counts()\n",
    "\n",
    "display(education_counts, sex, race, relationship, income)"
   ]
  },
  {
   "cell_type": "markdown",
   "id": "97a7e2c5",
   "metadata": {},
   "source": [
    "**Thinking Point #1** (see homework section) "
   ]
  },
  {
   "cell_type": "code",
   "execution_count": 4,
   "id": "d276ff38",
   "metadata": {},
   "outputs": [
    {
     "name": "stderr",
     "output_type": "stream",
     "text": [
      "/tmp/ipykernel_132/3417715027.py:18: SettingWithCopyWarning: \n",
      "A value is trying to be set on a copy of a slice from a DataFrame.\n",
      "Try using .loc[row_indexer,col_indexer] = value instead\n",
      "\n",
      "See the caveats in the documentation: https://pandas.pydata.org/pandas-docs/stable/user_guide/indexing.html#returning-a-view-versus-a-copy\n",
      "  df['age'] = scaler.fit_transform(df[['age']].astype(float))\n"
     ]
    }
   ],
   "source": [
    "# Handling the income mapping\n",
    "data['income'] = data['income'].str.strip().map({'<=50K': 0, '>50K': 1})\n",
    "\n",
    "# Check if any NaN values were created\n",
    "if data['income'].isna().any():\n",
    "    print(\"Warning: NA values found in 'income' after mapping.\") # Warming if NaN value is found\n",
    "\n",
    "# Encode categorical variables\n",
    "categorical_columns = ['education', 'relationship', 'race', 'sex']\n",
    "for column in categorical_columns:\n",
    "    data[column] = pd.Categorical(data[column]).codes\n",
    "\n",
    "# Prepare the DataFrame\n",
    "df = data[['age', 'education', 'relationship', 'race', 'sex', 'income']]\n",
    "\n",
    "# Standardize the age column\n",
    "scaler = StandardScaler()\n",
    "df['age'] = scaler.fit_transform(df[['age']].astype(float))"
   ]
  },
  {
   "cell_type": "markdown",
   "id": "109ed33a",
   "metadata": {},
   "source": [
    "### Model Fitting (Demonstration only, Logistics Regression will not be testable)"
   ]
  },
  {
   "cell_type": "code",
   "execution_count": 7,
   "id": "b0fa47d4",
   "metadata": {},
   "outputs": [],
   "source": [
    "# Splitting the dataset\n",
    "X = df[['age', 'education', 'relationship', 'race', 'sex']]\n",
    "y = df['income']\n",
    "X = sm.add_constant(X)  # Adding a constant for statsmodels\n",
    "\n",
    "# Train the logistic regression model\n",
    "model = LogisticRegression(max_iter=1000)\n",
    "X_train, X_test, y_train, y_test = train_test_split(X, y, test_size=0.25, random_state=42)\n",
    "model.fit(X_train, y_train)\n",
    "\n",
    "# Predicting the test set results\n",
    "y_pred = model.predict(X_test)"
   ]
  },
  {
   "cell_type": "markdown",
   "id": "487f6fd8",
   "metadata": {},
   "source": [
    "### Result Intepretation"
   ]
  },
  {
   "cell_type": "code",
   "execution_count": 8,
   "id": "de78d408",
   "metadata": {},
   "outputs": [
    {
     "name": "stdout",
     "output_type": "stream",
     "text": [
      "True Positive: 185,\n",
      "True Negative: 5957,\n",
      "False Positive: 257,\n",
      "False Negative: 1742\n"
     ]
    },
    {
     "data": {
      "image/png": "[encoded data removed]",
      "text/plain": [
       "<Figure size 640x480 with 2 Axes>"
      ]
     },
     "metadata": {},
     "output_type": "display_data"
    }
   ],
   "source": [
    "# Generating the confusion matrix\n",
    "cm = confusion_matrix(y_test, y_pred)\n",
    "disp = ConfusionMatrixDisplay(confusion_matrix = cm, display_labels = ['Negative','Positive'])\n",
    "disp.plot()\n",
    "\n",
    "TN, FP, FN, TP = cm.ravel()\n",
    "print(f'True Positive: {TP},\\nTrue Negative: {TN},\\nFalse Positive: {FP},\\nFalse Negative: {FN}')"
   ]
  },
  {
   "cell_type": "code",
   "execution_count": 9,
   "id": "96408fca",
   "metadata": {},
   "outputs": [
    {
     "name": "stdout",
     "output_type": "stream",
     "text": [
      "Accuracy: 0.75\n",
      "Precision: 0.42\n",
      "Recall: 0.10\n",
      "F1 Score: 0.16\n",
      "VIF values:\n",
      "         feature        VIF\n",
      "0         const  34.469093\n",
      "1           age   1.082441\n",
      "2     education   1.002338\n",
      "3  relationship   1.636709\n",
      "4          race   1.014449\n",
      "5           sex   1.527559\n"
     ]
    }
   ],
   "source": [
    "# Evaluating the model\n",
    "accuracy = accuracy_score(y_test, y_pred)      \n",
    "precision = precision_score(y_test, y_pred)\n",
    "recall = recall_score(y_test, y_pred)\n",
    "f1 = f1_score(y_test, y_pred)\n",
    "print(f\"Accuracy: {accuracy_score(y_test, y_pred):.2f}\")\n",
    "print(f\"Precision: {precision_score(y_test, y_pred):.2f}\")\n",
    "print(f\"Recall: {recall_score(y_test, y_pred):.2f}\")\n",
    "print(f\"F1 Score: {f1_score(y_test, y_pred):.2f}\")\n",
    "\n",
    "\n",
    "# Check for multicollinearity using VIF\n",
    "vif_data = pd.DataFrame()\n",
    "vif_data['feature'] = X.columns\n",
    "vif_data['VIF'] = [variance_inflation_factor(X.values, i) for i in range(X.shape[1])]\n",
    "print(\"VIF values:\\n\", vif_data)"
   ]
  },
  {
   "cell_type": "markdown",
   "id": "5fce50e3",
   "metadata": {},
   "source": [
    "**Thinking Point #2**  (see homework section)"
   ]
  },
  {
   "cell_type": "markdown",
   "id": "8cb7099f",
   "metadata": {},
   "source": [
    "### Communication [1 hour]\n",
    "In this activity, students will be organized into four groups to engage in a structured debate centered around two distinct ethical scenarios. Each scenario will be tackled by two groups—one defending a stance and the other opposing it. \n",
    "\n",
    "\n",
    "##### <u> Scenario 1: Predictive Policing: </u>\n",
    "**Background**: A city's police department has implemented a new AI system designed to predict crime hotspots by analyzing historical crime data and demographic information. The system is intended to optimize police patrols and prevent crimes before they occur.\n",
    "\n",
    "**Ethical Issues**:\n",
    "- **Bias and Discrimination**: The AI system may inadvertently target minority communities if the historical crime data is biased.\n",
    "- **Privacy**: The use of demographic data raises concerns about the surveillance and profiling of specific groups.\n",
    "- **Transparency**: There is limited transparency on how the AI system makes decisions and whether it accurately predicts crime without infringing on citizens' rights.\n",
    "\n",
    "**Debate Points**:\n",
    "- **Group A** (Defending the Use): Argue that predictive policing is a valuable tool for enhancing public safety and efficiently allocating police resources.\n",
    "- **Group B** (Arguing Against the Use): Contend that predictive policing perpetuates racial bias, violates privacy, and lacks the necessary transparency and oversight.\n",
    "\n",
    "##### <u> Scenario 2: Healthcare AI for Predicting Patient Risks: </u>\n",
    "**Background**: A healthcare startup has developed an AI system that uses patient data such as medical history, lifestyle choices, and genetic information to predict individuals’ risks of developing chronic diseases.\n",
    "\n",
    "**Ethical Issues**:\n",
    "- **Consent and Data Usage**: Concerns about how patient data is collected, used, and shared, particularly sensitive genetic information.\n",
    "- **Accuracy and Reliability**: Potential inaccuracies in AI predictions could lead to misdiagnosis or unnecessary anxiety for patients.\n",
    "- **Access and Equality**: The AI system could lead to unequal access to healthcare if predictions are used to prioritize care or determine insurance premiums.\n",
    "\n",
    "**Debate Points**:\n",
    "- **Group A** (Defending the Use): Defend the use of AI in healthcare as a means to advance preventive medicine and personalized care, potentially saving lives by early identification of risk factors.\n",
    "- **Group B** (Arguing Against the Use): Argue that the use of AI in healthcare could compromise patient privacy, create disparities in healthcare access, and rely on potentially flawed algorithms that could misguide medical decisions.\n"
   ]
  },
  {
   "cell_type": "markdown",
   "id": "999eacdc",
   "metadata": {},
   "source": [
    "### Homework [0 Minute]\n",
    ">Code and write all your answers in a python notebook (in code and markdown cells) and save your python jupyter notebook in your own account and “repo” on github.com and submit a link to that notebook though Quercus for assignment marking.\n",
    "\n",
    "1. Visit the  \"[Pre-processing](https://chat.openai.com/share/d3b53784-6442-46da-b42d-5567a503991c)\" and review the questionable practices in data preprocessing identified by ChatGPT: Pre-processing. Note any ethical concerns or questionable practices mentioned. \n",
    "\n",
    "\n",
    "2. Using the data distribution information provided before the thinking point #1, insert the following prompt into ChatGPT: \n",
    "    >Based on the following data distribution from a dataset, please analyze and describe any potential imbalances and biases present. Here are the distributions for various categories: \n",
    "\n",
    "\n",
    "3. Copy and paste the following detailed prompt(next cell) into ChatGPT, and once you receive the analysis, review it carefully.\n",
    "> I have utilized a logistic regression model on a dataset from the 1994 Census database to predict income levels and obtained various statistical outputs. The steps included encoding categorical variables, standardizing age, and mapping income to binary categories. Here are the detailed results and components from the analysis:\n",
    ">\n",
    "> 1. Confusion Matrix Details:\n",
    ">     * True Positives: 185\n",
    ">     * True Negatives: 5957\n",
    ">     * False Positives: 257\n",
    ">     * False Negatives: 1742\n",
    ">     * Accuracy: 75%\n",
    ">     * Precision: 42%\n",
    ">     * Recall: 10%\n",
    ">     * F1 Score: 16%\n",
    ">     \n",
    "> 2. Variance Inflation Factor (VIF) for Multicollinearity Check:\n",
    ">     * Constants (intercept): VIF = 34.47\n",
    ">     * Age: VIF = 1.08\n",
    ">     * Education: VIF = 1.00\n",
    ">     * Relationship: VIF = 1.64\n",
    ">     * Race: VIF = 1.01\n",
    ">     * Sex: VIF = 1.53\n",
    ">     \n",
    "> Could you help interpret the specific components of these results:\n",
    ">\n",
    "> * Confusion Matrix: What does the proportion of false positives and false negatives suggest about the model’s specificity and sensitivity?\n",
    ">\n",
    "> * Accuracy and Precision Metrics: How do these values reflect the model’s overall effectiveness in predicting correct income categories?\n",
    ">\n",
    "> * Recall and F1 Score: Considering the low recall and F1 score, what might be the implications for the model's ability to identify the higher income class ('>50K’)?’\n",
    ">\n",
    "> * VIF Values: How do the specific VIF values for each feature influence our understanding of multicollinearity in this model?\n",
    ">\n",
    "> Additionally, can you provide a short summary of the model’s performance, focusing on both its shortcomings and advantages based on these results? Based on the detailed metrics provided, what targeted improvements could be suggested to enhance the model’s accuracy and predictive capabilities?\n",
    ">\n",
    "> Lastly, considering the results and the important steps taken during the data preparation and analysis, what possible ethical issues might be raised?\"\n",
    "\n",
    "\n",
    "4. Reflect on the findings from Tasks 1, 2, and 3. Write a 350-500 word analysis discussing how the dataset might be biased relative to the current economy and how the model or statistical operations could be prone to errors. Using insights from ChatGPT, propose how you could improve the dataset handling or model to mitigate these issues."
   ]
  },
  {
   "cell_type": "code",
   "execution_count": null,
   "outputs": [],
   "source": [],
   "metadata": {
    "collapsed": false
   },
   "id": "b2dbaea2f859e93"
  }
 ],
 "metadata": {
  "kernelspec": {
   "display_name": "Python 3 (ipykernel)",
   "language": "python",
   "name": "python3"
  },
  "language_info": {
   "codemirror_mode": {
    "name": "ipython",
    "version": 3
   },
   "file_extension": ".py",
   "mimetype": "text/x-python",
   "name": "python",
   "nbconvert_exporter": "python",
   "pygments_lexer": "ipython3",
   "version": "3.11.6"
  }
 },
 "nbformat": 4,
 "nbformat_minor": 5
}
