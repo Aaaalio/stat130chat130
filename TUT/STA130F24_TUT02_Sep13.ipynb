{
 "cells": [
  {
   "cell_type": "markdown",
   "id": "fa8cc949",
   "metadata": {},
   "source": [
    "#### Review  / Questions [20 minutes]\n",
    "1. See Sep06 TUT and Sep09 LEC\n",
    "\n",
    "#### Demo [55 minutes] Demonstrate the following in a Jupyter Notebook by coding up the \"Monte Hall\" problem\n",
    "1. `for i in range(n)` and `for x in enumerate(lst)` and  `for i,x in enumerate(lst)`\n",
    "2. `list()` and `dict()` and `import numpy as np; np.array(); np.random.choice([1,2,3]`\n",
    "3. `if`/`else`\n",
    "\n",
    "#### Communication \n",
    "\n",
    "> I asked ChatGPT to give you a group activity that was sort of related to decision making under uncertinaty using probability, and it produced the following questions.\n",
    "\n",
    "1. **[15 minutes]** Break into 5 new groups of 5, and assign the following 5 questions to the 5 groups. Consider allowing students to preferentially select which group they join by calling for volunteers for each group.\n",
    "\n",
    "    1. Stock Investment Strategy: Students are investors trying to maximize their returns in the stock market. They must decide between two investment strategies: \"diversified portfolio\" or \"focused portfolio.\" Each strategy has different probabilities of success based on market conditions.\n",
    "        1. Diversified Portfolio: Spread investments across multiple industries.\n",
    "        2. Focused Portfolio: Concentrate investments in a few high-potential stocks.\n",
    "    2. Healthcare Treatment Decision: Students are healthcare professionals deciding between two treatment options for a patient's condition. Each treatment has different success rates and potential side effects.\n",
    "        1. Treatment A: High success rate but moderate side effects.\n",
    "        2 Treatment B: Lower success rate but minimal side effects.\n",
    "    3. Sports Team Strategy: Students are coaches of a sports team planning their game strategy. They must decide between two tactics: \"offensive strategy\" or \"defensive strategy.\" Each strategy has different probabilities of winning based on the opponent's strengths and weaknesses.\n",
    "        1. Offensive Strategy: Focus on scoring goals/points aggressively.\n",
    "        2. Defensive Strategy: Prioritize defense to prevent the opponent from scoring.\n",
    "    4. Career Path Decision: Students are recent graduates deciding between two career paths: \"corporate job\" or \"entrepreneurship.\" Each path has different probabilities of success and factors to consider, such as job security, income potential, and work-life balance.\n",
    "        1. Corporate Job: Stable income but limited growth opportunities.\n",
    "        2. Entrepreneurship: Higher potential for success but greater risk and uncertainty.\n",
    "    4. Environmental Conservation Strategy: Students are environmental activists advocating for conservation efforts in a wildlife reserve. They must decide between two conservation strategies: \"habitat preservation\" or \"species reintroduction.\" Each strategy has different probabilities of achieving long-term sustainability for the ecosystem.\n",
    "        1. Habitat Preservation: Protect existing habitats from human encroachment.\n",
    "        2. Species Reintroduction: Reintroduce endangered species to restore ecological balance.            \n",
    "2. **[20 minutes]** Have each group give a 3 minute summary of their considerations for their prompts\n",
    "\n",
    "#### Homework [0 minutes]\n",
    "\n",
    "> Code and write all your answers in a python notebook (in code and markdown cells) and save your python jupyter notebook in your own account and \"repo\" on [github.com](github.com) and submit a link to that notebook though Quercus for assignment marking.\n",
    "\n",
    "1. Discuss the \"Monte Hall\" problem code with ChatGPT to make sure you understand how the code works and the problem works\n",
    "2. See if ChatGPT can suggest any streamlining or readability or usability improvments to the code\n",
    "3. Tell ChatGPT that you have code that creates a Markov chatbot and show it the code below and then use ChatGPT to make sure you understand how the code works and the problem works\n",
    "    1. If ChatGPT asks how you will \"train\" your Chatbot you can tell it that you'll just use a series of stories with a lot of different characters\n",
    "4. Tell ChatGPT that you have a couple extensions of the code to show it, and show it each of these of the algorithm in sequence\n",
    "    1. Without giving it the answers, see if you can prompt ChatGPT to figure out the extensions in the code; namely, the trigram (rather than bigram) dependency, and the character specific Markov chains \n",
    "    2. See if ChatGPT can suggest any streamlining or readability or usability improvments to the code\n",
    "    3. See what ChatGPT is able to help you understand about the code and what's hard to understand even when  ChatGPTs is helping to explaining things\n",
    "    4. Start a new ChatGPT and first show it the original Markov Chatbot, and then tell ChatGPT that you have an extension but just show it Extension #2 directly without showing it Extension #2 and see if it's still able to understand everything extension does. \n",
    "5. Report on your experience with ChatGPT discussing how quickly it was able to be helpful for each of the above questions, and if so, how\n",
    "6. Reflect on your experience interacting with ChatGPT and describe how your perception of AI-driven assistance tools in the context of learning coding, statistics, and data science may be evolving\n",
    "7. By searching online and discussing the topic with ChatGPT, describe the relevance of learning and adaptability, communication, coding, and statistics and data analysis as skills in the modern world, epseically with respect to career opportunities (particularly in the context of the data science industry)\n",
    "8. See if ChatGPT thinks you could be a statistician or a data scientist without coding or doing data analysis and summarise the assessment ChatGPT provides\n",
    "9. Do some career exploration with ChatGPT to identify the skills that might be the most valuable for a career that you're interested in and paraphrase the conclusions of your conversation"
   ]
  },
  {
   "cell_type": "code",
   "execution_count": 13,
   "id": "f8f78323",
   "metadata": {},
   "outputs": [
    {
     "data": {
      "text/plain": [
       "3"
      ]
     },
     "execution_count": 13,
     "metadata": {},
     "output_type": "execute_result"
    }
   ],
   "source": [
    "import numpy as np\n",
    "np.random.choice([1,2,3])"
   ]
  },
  {
   "cell_type": "code",
   "execution_count": null,
   "id": "d1a72f2f",
   "metadata": {},
   "outputs": [],
   "source": [
    "# Monte Hall Simulation Code -- not the only way to code this, but it's what Scott Schwartz came up with...\n",
    "\n",
    "import numpy as np\n",
    "all_door_options = (1,2,3) # tuple\n",
    "my_door_choice = 1 #1,2,3\n",
    "i_won = 0\n",
    "reps=100000\n",
    "for i in range(reps):\n",
    "    secret_winning_door = np.random.choice(all_door_options)\n",
    "    all_door_options_list = list(all_door_options)\n",
    "    # take the secret_winning_door so we don't show it as a \"goat\" losing door\n",
    "    all_door_options_list.remove(secret_winning_door) \n",
    "    try:\n",
    "        # if my_door_choice was secret_winning_door then it's already removed\n",
    "        all_door_options_list.remove(my_door_choice)\n",
    "    except:\n",
    "        pass\n",
    "    # show a \"goat\" losing door and remove it\n",
    "    goat_door_reveal = np.random.choice(all_door_options_list)\n",
    "    all_door_options_list.remove(goat_door_reveal)\n",
    "\n",
    "    # put the secret_winning_door back in if it wasn't our choice\n",
    "    # we previously removed it so it would be shown as a  \"goat\" losing door\n",
    "    if secret_winning_door != my_door_choice:\n",
    "        all_door_options_list.append(secret_winning_door)\n",
    "    # if secret_winning_door was our choice then all that's left in the list is a \"goat\" losing door\n",
    "    # if secret_winning_door wasn't our choice then it's all that will be left in the list\n",
    "    \n",
    "    # swap strategy\n",
    "    my_door_choice = all_door_options_list[0]\n",
    "\n",
    "    if my_door_choice == secret_winning_door:\n",
    "        i_won += 1\n",
    "\n",
    "i_won/reps"
   ]
  },
  {
   "cell_type": "code",
   "execution_count": null,
   "id": "3445d713",
   "metadata": {},
   "outputs": [],
   "source": [
    "# Markov Chatbot\n",
    "\n",
    "#from collections import defaultdict\n",
    "word_used = dict()#defaultdict(int)\n",
    "next_word = dict()#defaultdict(lambda: defaultdict(int))\n",
    "for i,word in enumerate(words[:-1]):\n",
    "    \n",
    "    if word in word_used:\n",
    "        word_used[word] += 1\n",
    "    else: \n",
    "        word_used[word] = 1\n",
    "        next_word[word] = {}\n",
    "        \n",
    "    if words[i+1] in next_word[word]:\n",
    "        next_word[word][words[i+1]] += 1 \n",
    "    else:\n",
    "\n",
    "        next_word[word][words[i+1]] = 1"
   ]
  },
  {
   "cell_type": "code",
   "execution_count": null,
   "id": "e48fe136",
   "metadata": {},
   "outputs": [],
   "source": [
    "# Markov Chatbot Extension #1\n",
    "\n",
    "word_used2 = defaultdict(int)\n",
    "next_word2 = defaultdict(lambda: defaultdict(int))\n",
    "for i,word in enumerate(words[:-2]):\n",
    "    word_used2[word+' '+words[i+1]] += 1\n",
    "    next_word2[word+' '+words[i+1]][words[i+2]] += 1 "
   ]
  },
  {
   "cell_type": "code",
   "execution_count": null,
   "id": "a94544ec",
   "metadata": {},
   "outputs": [],
   "source": [
    "# Markov Chatbot Extension #2\n",
    "\n",
    "from collections import Counter, defaultdict\n",
    "characters = Counter(\"\\n\"+avatar.character.str.upper().str.replace(' ','.')+\":\")\n",
    "\n",
    "nested_dict = lambda: defaultdict(nested_dict)\n",
    "word_used2C = nested_dict()\n",
    "next_word2C = nested_dict()\n",
    "\n",
    "for i,word in enumerate(words[:-2]):\n",
    "    \n",
    "    if word in characters:\n",
    "        character = word\n",
    "        \n",
    "    if character not in word_used2C:\n",
    "        word_used2C[character] = dict()\n",
    "    if word+' '+words[i+1] not in word_used2C[character]:\n",
    "        word_used2C[character][word+' '+words[i+1]] = 0\n",
    "    word_used2C[character][word+' '+words[i+1]] += 1\n",
    "\n",
    "    if character not in next_word2C:\n",
    "        next_word2C[character] = dict()\n",
    "    if word+' '+words[i+1] not in next_word2C[character]:\n",
    "        next_word2C[character][word+' '+words[i+1]] = dict()\n",
    "    if words[i+2] not in next_word2C[character][word+' '+words[i+1]]:\n",
    "        next_word2C[character][word+' '+words[i+1]][words[i+2]] = 0\n",
    "    next_word2C[character][word+' '+words[i+1]][words[i+2]] += 1"
   ]
  }
 ],
 "metadata": {
  "kernelspec": {
   "display_name": "Python 3 (ipykernel)",
   "language": "python",
   "name": "python3"
  },
  "language_info": {
   "codemirror_mode": {
    "name": "ipython",
    "version": 3
   },
   "file_extension": ".py",
   "mimetype": "text/x-python",
   "name": "python",
   "nbconvert_exporter": "python",
   "pygments_lexer": "ipython3",
   "version": "3.11.6"
  }
 },
 "nbformat": 4,
 "nbformat_minor": 5
}
