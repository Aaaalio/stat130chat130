{
 "cells": [
  {
   "cell_type": "markdown",
   "id": "9047160dfd885818",
   "metadata": {},
   "source": [
    "## Review / Questions [15 minutes]\n",
    "1. See Sep06 TUT and Sep09 LEC "
   ]
  },
  {
   "cell_type": "markdown",
   "id": "7b6f2d524b9e6c7e",
   "metadata": {},
   "source": [
    "## Demo Jupyter Notebook and ChatGPT [50 minutes] \n",
    "1. Demonstrate some traditional `python` coding structures [25/50 minutes]\n",
    "    1. `tuple()`, `list()`, versus `dict()` # immutable, mutable, key-value pairs\n",
    "    2. Some `NumPy` functions:\n",
    "        1. `import numpy as np`\n",
    "        2. `np.array()` # a faster list\n",
    "        3. `np.random.choice([1,2,3])`\n",
    "    3. `for i in range(n)` and `for i,x in enumerate(a_list)` and `print()`\n",
    "    4. `if`/`else` conditional statements [perhaps with `x in b_list` or `i % 2 == 0` treat evens/odds differently]\n",
    "        1. Note \"similarity\" to `try`/`except`/`pass`?\n",
    "2. Review the [Monty Hall Problem](https://chat.openai.com/share/26f74c54-5358-431e-b97a-315fdcb4e2c9) [5/50 minutes]\n",
    "3. Examine which of the above coding structures are used (and not used) in the Monty Hall simulation below [5/50 minutes]\n",
    "    1. If time permits, start a [demonstration of using ChatGPT to](https://chatgpt.com/share/46f6359a-4799-49af-9f92-3835e4b95542) (a) understand what the code below is doing, and (b) suggest an improved streamlined version of the code that might be easier to understand [15/50 minutes]\n",
    "\n"
   ]
  },
  {
   "cell_type": "code",
   "execution_count": null,
   "id": "20e8c519ed45cbfb",
   "metadata": {},
   "outputs": [],
   "source": [
    "# Cell to demo what the above code does\n"
   ]
  },
  {
   "cell_type": "code",
   "execution_count": null,
   "id": "58f70b99",
   "metadata": {},
   "outputs": [],
   "source": [
    "# Add more code cells to keep a record of the demos\n"
   ]
  },
  {
   "cell_type": "code",
   "execution_count": 1,
   "id": "d9cfb02869afc350",
   "metadata": {
    "ExecuteTime": {
     "end_time": "2024-05-15T21:54:31.981069Z",
     "start_time": "2024-05-15T21:54:30.771611Z"
    }
   },
   "outputs": [
    {
     "data": {
      "text/plain": [
       "0.66777"
      ]
     },
     "execution_count": 1,
     "metadata": {},
     "output_type": "execute_result"
    }
   ],
   "source": [
    "# Monte Hall Simulation Code -- not the only way to code this, but it's what Prof. Schwartz came up with...\n",
    "\n",
    "import numpy as np\n",
    "all_door_options = (1,2,3)  # tuple\n",
    "my_door_choice = 1  # 1,2,3\n",
    "i_won = 0\n",
    "reps = 100000\n",
    "for i in range(reps):\n",
    "    secret_winning_door = np.random.choice(all_door_options)\n",
    "    all_door_options_list = list(all_door_options)\n",
    "    # take the secret_winning_door, so we don't show it as a \"goat\" losing door\n",
    "    all_door_options_list.remove(secret_winning_door)\n",
    "    try:\n",
    "        # if my_door_choice was secret_winning_door then it's already removed\n",
    "        all_door_options_list.remove(my_door_choice)\n",
    "    except:\n",
    "        pass\n",
    "    # show a \"goat\" losing door and remove it\n",
    "    goat_door_reveal = np.random.choice(all_door_options_list)\n",
    "    all_door_options_list.remove(goat_door_reveal)\n",
    "\n",
    "    # put the secret_winning_door back in if it wasn't our choice\n",
    "    # we previously removed it, so it would be shown as a  \"goat\" losing door\n",
    "    if secret_winning_door != my_door_choice:\n",
    "        all_door_options_list.append(secret_winning_door)\n",
    "    # if secret_winning_door was our choice then all that's left in the list is a \"goat\" losing door\n",
    "    # if secret_winning_door wasn't our choice then it's all that will be left in the list\n",
    "\n",
    "    # swap strategy\n",
    "    my_door_choice = all_door_options_list[0]\n",
    "\n",
    "    if my_door_choice == secret_winning_door:\n",
    "        i_won += 1\n",
    "\n",
    "i_won/reps"
   ]
  },
  {
   "cell_type": "markdown",
   "id": "b1985697e415697b",
   "metadata": {},
   "source": [
    "## Communication \n",
    "\n",
    "> I asked ChatGPT to create a group activity for you that was related to decision-making under uncertainty using probability, and it produced the following questions.\n",
    "> > This is a little bit like the suggestion in the \"Afterward\" of Homework last weeks to ask ChatGPT to suggest and explain some other \"unintuitive surprising statistics paradoxes\" (besides the \"World War 2 Plane\" and \"Monte Hall\" problems)\n",
    " \n",
    "1. **[15 minutes]** Break into 5 new groups of 4-5, and assign the following 5 questions to the 5 groups. [Consider allowing students to preferentially select which group they join by calling for volunteers for each prompt.] *For each of the prompts, the groups will consider the pros and cons of two options, the potential impact of a decision to persue one of the options, and how they take into account how uncertainty influences their thinking about the options.*\n",
    "\n",
    "    1. Stock Investment Strategy: Students are investors trying to maximize their returns in the stock market. They must decide between two investment strategies: \"diversified portfolio\" or \"focused portfolio.\" Each strategy has different probabilities of success based on market conditions.\n",
    "        1. Diversified Portfolio: Spread investments across multiple industries.\n",
    "        2. Focused Portfolio: Concentrate investments in a few high-potential stocks.\n",
    "    2. Healthcare Treatment Decision: Students are healthcare professionals deciding between two treatment options for a patient's condition. Each treatment has different success rates and potential side effects.\n",
    "        1. Treatment A: High success rate but moderate side effects.\n",
    "        2. Treatment B: Lower success rate but minimal side effects.\n",
    "    3. Sports Team Strategy: Students are coaches of a sports team planning their game strategy. They must decide between two tactics: \"offensive strategy\" or \"defensive strategy.\" Each strategy has different probabilities of winning based on the opponent's strengths and weaknesses.\n",
    "        1. Offensive Strategy: Focus on scoring goals/points aggressively.\n",
    "        2. Defensive Strategy: Prioritize defense to prevent the opponent from scoring.\n",
    "    4. Career Path Decision: Students are recent graduates deciding between two career paths: \"corporate job\" or \"entrepreneurship.\" Each path has different probabilities of success and factors to consider, such as job security, income potential, and work-life balance.\n",
    "        1. Corporate Job: Stable income but limited growth opportunities.\n",
    "        2. Entrepreneurship: Higher potential for success but greater risk and uncertainty.\n",
    "    5. Environmental Conservation Strategy: Students are environmental activists advocating for conservation efforts in a wildlife reserve. They must decide between two conservation strategies: \"habitat preservation\" or \"species reintroduction.\" Each strategy has different probabilities of achieving long-term sustainability for the ecosystem.\n",
    "        1. Habitat Preservation: Protect existing habitats from human encroachment.\n",
    "        2. Species Reintroduction: Reintroduce endangered species to restore ecological balance.\n",
    "\n",
    "2. **[20 minutes]** Each group prepares a brief (approximately 3 minute) summary outlining their decision and the rationale behind it. Groups should address the expected outcomes, the risks involved, and why they believe their choice is the best in light of their characterization of the degree uncertainty present in their context. If time permits, engaging in some (students or TA) Q&A seeking clarification or challenging group decisions would be ideal."
   ]
  },
  {
   "cell_type": "markdown",
   "id": "f014006ff8809433",
   "metadata": {},
   "source": [
    "## Homework [0 minutes]\n",
    "\n",
    "> Code and write all your answers (for both the \"Prelecture\" and \"Postlecture\" HW) in a python notebook (in code and markdown cells) and save your python jupyter notebook in your own account and \"repo\" on [github.com](github.com) and submit a link to that notebook though Quercus for assignment marking.\n",
    "> \n",
    "> *The marking rubic (which may award partial credit) is as follows:*\n",
    ">\n",
    "> - [0.1 points]: All GPTchat transcript logs are reported at the top of the notebook\n",
    "> - [0.3 points]: Assignment completion confirmed by GPTchat log interactions for \"3\"\n",
    "> - [0.3 points]: Assignment completion confirmed by GPTchat log interactions for \"6\"\n",
    "> - [0.3 points]: Evaluation of engagement and evaluation of written communication in \"7\"\n"
   ]
  },
  {
   "cell_type": "markdown",
   "id": "d5ca7020",
   "metadata": {},
   "source": [
    "### Prelecture HW\n",
    "\n",
    "1. Begin (or resume) part \"3A\" of the **Demo** above and interact with ChatGPT to make sure you understand how each part the Monte Hall problem code above works \n",
    "> ChatGPT will probably be able to respond very effectively if you share the full Monte Hall problem code; but, remember that you can always introduce more specific and targetted prompts that help focus ChatGPTs response wherever some extra help or explanation attention is needed\n",
    "> - ChatGPT won't always re-introduce and re-explain the Monte Hall problem itself, so if you need it to do so you may need to specifically request this as part of your prompt or follow up interactions\n",
    "\n",
    "\n",
    "2. See if ChatGPT can suggest any streamlining, readability or usability improvements to the code\n",
    "    1. Describe any preferences you have (e.g., in terms of understandability or explainability, etc.) between the original code and the code improvements suggested by ChatGPT\n",
    "    2. Submit the log of your interaction history with ChatGPT\n",
    "    \n",
    "    \n",
    "3. Submit your preferred version of the Monty Hall problem that is verified to be running and working with a final printed output of the code\n",
    "    1. Add code comments explaining the purpose of each line of the code\n",
    "    2. ChatGPT can likely do this for you to some degree, but verify for yourself that you understand each comment and reword comments wherever you think it would be better to explain it differently\n",
    "    \n",
    "    \n",
    "4.  Watch the embedded video tutorial on Markov chains in the next Jupyter cell below to understand their application in chatbot creation. After watching the video, start a new ChatGPT session by prompting that you have code that creates a Markov chatbot; show it the first version of the code below; and interact with ChatGPT to make sure you understand how the code works and the problem works\n",
    "    1. If ChatGPT prompts you as to how you will \"train\" your Chatbot you can replay that you'll just use a series of stories with a lot of different characters\n",
    "    2. Submit the log of your interaction history with ChatGPT    \n"
   ]
  },
  {
   "cell_type": "code",
   "execution_count": null,
   "id": "a52754504a625b36",
   "metadata": {},
   "outputs": [],
   "source": [
    "# Markov Chains and Text Generation\n",
    "from IPython.display import YouTubeVideo\n",
    "YouTubeVideo('56mGTszb_iM', width = 550)"
   ]
  },
  {
   "cell_type": "markdown",
   "id": "8f12c39f",
   "metadata": {},
   "source": [
    "### Postlecture HW\n",
    "\n",
    "5. Return to and resume the previous (question 4)... Continue the session with ChatGPT by prompting it that you have a couple extensions of the code to show it, and then show it each of these alternative versions of the code in turn\n",
    "    1. Without just giving ChatGPT the answers, see if ChatGPT can figure out what the extensions in the code do; namely, making character specific Markov chains, and using bigrams (rather than just the previous word alone) dependency... prompt ChatGPT with some hints if it's not seeming to \"get it\"\n",
    "    2. Interact with ChatGPT to have it explain how the code works wherever you need help understanding what the code is doing and how it works\n",
    "    3. Start yet another new ChatGPT session and first show it the original Markov Chatbot, and then tell ChatGPT that you have an extension but this time just directly provide it the more complicated extension without ever providing the intermediate extension code to ChatGPT and see if it's still able to understand everything extension does; namely, making character specific Markov chains, and using bigrams (rather than just the previous word alone) dependency... prompt ChatGPT with some hints if it's not seeming to \"get it\"\n",
    "    4. Interact with ChatGPT to see if it can suggest any streamlining, readability or usability improvements to this last code extension and give your evaluation of its response... if you're not sure about why the suggestions from ChatGPT are better, ask it to explain why it thinks it's provided an improvement\n",
    "    > It's likely that ChatGPT will introduce python functions and the associated considerations therein regarding code design... while this is beyond the scope of STA130, examine these considerations a little bit anyway and see if you find them intuitive and helpful things to consider, generally speaking\n",
    "    5. Submit the log of your interaction history with ChatGPT   \n",
    "    \n",
    "    \n",
    "6. Report on your experience interacting with ChatGPT \n",
    "    1. Discuss how quickly ChatGPT was able to be helpful for each of the above questions, and if so, how?\n",
    "    2. Discuss whether or not interacting with ChatGPT to try to figure things out was frustrating or unhelpful, and if so, how?\n",
    "    3. Based on your experiences to date, provide an overall assessment evaluating the usefulness of ChatGPT as a tool to help you understand code \n",
    "    \n",
    "    \n",
    "7. Reflect on your experience interacting with ChatGPT and describe how your perception of AI-driven assistance tools in the context of learning coding, statistics, and data science has been evolving (or not) since joining the course\n",
    "\n",
    "> This, and the following questions somewhat relate to the first bullet point in the suggested interactions of the \"Afterword\" to the Homework from last week. You might consider reviewing that if you'd like a little extra orienting around what these questions are trying to have you explore.\n",
    "\n",
    "\n",
    "8. By searching online and discussing the topic with ChatGPT, describe the relevance of learning and adaptability, communication, coding, and statistics and data analysis as skills in the modern world, especially with respect to career opportunities (particularly in the context of the data science industry)\n",
    "\n",
    "> While questions 8 and 9 are not a part of the rubric, they are nonetheless a very good exercise that will likely be valuable for you if you engage in them sincerely\n",
    "\n",
    "\n",
    "9. See if ChatGPT thinks you could be a statistician or data scientist without coding or doing data analysis and summarise the assessment ChatGPT provides. Then transition this ChatGPT session into a career exploration discussion with ChatGPT to identify the skills that might be the most valuable for a career that you're interested in and paraphrase the conclusions of your conversation as a presentation of your current thoughts about your career and how you can go about building the skills you need to pursue it\n",
    "\n",
    "\n",
    "10. Have you interacted with ChatGPT to help you understand all the material in the tutorial and lecture that you didn't quite follow when you first saw it?\n",
    "> Just answering \"Yes\" or \"No\" or \"Somewhat\" or \"Mostly\" or whatever here is fine as this question isn't a part of the rubric; but, the midterm and final exams may ask questions that are based on the tutorial and lecture materials; and, your own skills will be limited by your familiarity with these materials (which will determine your ability to actually do actual things effectively with these skills... like the course project...)"
   ]
  },
  {
   "cell_type": "code",
   "execution_count": null,
   "id": "16f95257fb4fda6c",
   "metadata": {},
   "outputs": [],
   "source": [
    "# Markov Chatbot\n",
    "\n",
    "# from collections import defaultdict\n",
    "word_used = dict() # defaultdict(int)\n",
    "next_word = dict() # defaultdict(lambda: defaultdict(int))\n",
    "for i,word in enumerate(words[:-1]):\n",
    "\n",
    "    if word in word_used:\n",
    "        word_used[word] += 1\n",
    "    else:\n",
    "        word_used[word] = 1\n",
    "        next_word[word] = {}\n",
    "\n",
    "    if words[i+1] in next_word[word]:\n",
    "        next_word[word][words[i+1]] += 1\n",
    "    else:\n",
    "        next_word[word][words[i+1]] = 1"
   ]
  },
  {
   "cell_type": "code",
   "execution_count": null,
   "id": "bd0e5d2163411e8e",
   "metadata": {},
   "outputs": [],
   "source": [
    "# Markov Chatbot Extension #1\n",
    "\n",
    "word_used2 = defaultdict(int)\n",
    "next_word2 = defaultdict(lambda: defaultdict(int))\n",
    "for i,word in enumerate(words[:-2]):\n",
    "    word_used2[word+' '+words[i+1]] += 1\n",
    "    next_word2[word+' '+words[i+1]][words[i+2]] += 1 "
   ]
  },
  {
   "cell_type": "code",
   "execution_count": null,
   "id": "33fe616edecddb60",
   "metadata": {},
   "outputs": [],
   "source": [
    "# Markov Chatbot Extension #2\n",
    "\n",
    "from collections import Counter, defaultdict\n",
    "characters = Counter(\"\\n\"+ avatar.character.str.upper().str.replace(' ','.')+\":\")\n",
    "\n",
    "nested_dict = lambda: defaultdict(nested_dict)\n",
    "word_used2C = nested_dict()\n",
    "next_word2C = nested_dict()\n",
    "\n",
    "for i,word in enumerate(words[:-2]):\n",
    "    if word in characters:\n",
    "        character = word\n",
    "        \n",
    "    if character not in word_used2C:\n",
    "        word_used2C[character] = dict()\n",
    "    if word+' '+words[i+1] not in word_used2C[character]:\n",
    "        word_used2C[character][word+' '+words[i+1]] = 0\n",
    "    word_used2C[character][word+' '+words[i+1]] += 1\n",
    "    \n",
    "    if character not in next_word2C:\n",
    "        next_word2C[character] = dict()\n",
    "    if word+' '+words[i+1] not in next_word2C[character]:\n",
    "        next_word2C[character][word+' '+words[i+1]] = dict()\n",
    "    if words[i+2] not in next_word2C[character][word+' '+words[i+1]]:\n",
    "        next_word2C[character][word+' '+words[i+1]][words[i+2]] = 0\n",
    "    next_word2C[character][word+' '+words[i+1]][words[i+2]] += 1"
   ]
  }
 ],
 "metadata": {
  "kernelspec": {
   "display_name": "Python 3 (ipykernel)",
   "language": "python",
   "name": "python3"
  },
  "language_info": {
   "codemirror_mode": {
    "name": "ipython",
    "version": 3
   },
   "file_extension": ".py",
   "mimetype": "text/x-python",
   "name": "python",
   "nbconvert_exporter": "python",
   "pygments_lexer": "ipython3",
   "version": "3.11.4"
  }
 },
 "nbformat": 4,
 "nbformat_minor": 5
}
