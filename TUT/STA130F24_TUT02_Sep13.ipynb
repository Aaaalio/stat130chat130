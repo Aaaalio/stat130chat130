{
 "cells": [
  {
   "cell_type": "markdown",
   "id": "41870503",
   "metadata": {},
   "source": [
    "# STA130 TUT 02 (Sep13)<br> <u> Coding with data types, for loops, and logical flow control <u>\n"
   ]
  },
  {
   "cell_type": "markdown",
   "id": "9047160dfd885818",
   "metadata": {},
   "source": [
    "\n",
    "## Review / Questions [15 minutes]\n",
    "1. Follow up Questions and clarifications regarding the content of Sep06 TUT and Sep09 LEC \n",
    "    > 1. Helpful contributions and discussions regarding notebooks, markdown, and ChatBots?\n",
    "    > 2. Helpful contributions and discussions Questions regarding previously introduced `Python` code? \n",
    "    >\n",
    "    > We're continuing to dive into `Python` so building comfort and capability working with ChatBots to leverage `Python` code is the objective of the current phase of the course..."
   ]
  },
  {
   "cell_type": "markdown",
   "id": "7b6f2d524b9e6c7e",
   "metadata": {},
   "source": [
    "## (Jupyter Notebook and ChatBot) Demo [50 minutes]\n",
    "1. **[25 of the 50 minutes]** Demonstrate some traditional `python` coding structures \n",
    "    1. `tuple()`, `list()`, versus `dict()` # immutable, mutable, key-value pairs\n",
    "    2. Some `NumPy` functions:\n",
    "        1. `import numpy as np`\n",
    "        2. `np.array()` # a faster list\n",
    "        3. `np.random.choice([1,2,3])`\n",
    "    3. `for i in range(n)` and `for i,x in enumerate(a_list)` and `print()`\n",
    "    4. `if`/`else` conditional statements [perhaps with `x in b_list` or `i % 2 == 0` treat evens/odds differently... this is sort of like the infamous \"FizzBuzz\" problem that some people [can't complete](https://www.quora.com/On-average-what-is-the-proportion-of-applicants-that-cannot-pass-a-simple-FizzBuzz-test-based-on-your-personal-experience-or-on-facts) as part of a coding interview challenge]\n",
    "        1. At least note the \"similarity\" to `try`/`except`/`pass` since it is used in the demo code below\n",
    "2. **[5 of the 50 minutes]** Review the [Monty Hall Problem](../CHATLOG/wk2/SLS/GPT/00001) \n",
    "3. **[5 of the 50 minutes]** Examine which of the above coding structures are used (and not used) in the Monty Hall simulation below \n",
    "    1. **[15 of the 50 minutes]** Use the remaining time to, start a demonstration of using a ChatBot to (a) understand what the code below is doing, and (b) suggest an improved streamlined version of the `for` loop simulation code that might be easier to explain and understand \n",
    "        1. ChatGPT version 3.5 [was very effective](../CHATLOG/wk2/SLS/GPT/00003) for (b), while Copilot \"creative mode\" [was shockingly bad](../CHATLOG/wk2/SLS/GPT/00001) for (b) \n",
    "        2. Copilot \"precise mode\" initially struggled [but was eventually effective](../CHATLOG/wk2/SLS/GPT/00001) with some helpful guidance for (b)\n"
   ]
  },
  {
   "cell_type": "code",
   "execution_count": null,
   "id": "20e8c519ed45cbfb",
   "metadata": {},
   "outputs": [],
   "source": [
    "# Cell to demo what the above code does\n"
   ]
  },
  {
   "cell_type": "code",
   "execution_count": null,
   "id": "58f70b99",
   "metadata": {},
   "outputs": [],
   "source": [
    "# Add more code cells to keep a record of the demos\n"
   ]
  },
  {
   "cell_type": "code",
   "execution_count": 1,
   "id": "d9cfb02869afc350",
   "metadata": {
    "ExecuteTime": {
     "end_time": "2024-05-15T21:54:31.981069Z",
     "start_time": "2024-05-15T21:54:30.771611Z"
    }
   },
   "outputs": [
    {
     "data": {
      "text/plain": [
       "0.66777"
      ]
     },
     "execution_count": 1,
     "metadata": {},
     "output_type": "execute_result"
    }
   ],
   "source": [
    "# Monte Hall Simulation Code -- not the only way to code this, but it's what Prof. Schwartz came up with...\n",
    "\n",
    "import numpy as np\n",
    "all_door_options = (1,2,3)  # tuple\n",
    "my_door_choice = 1  # 1,2,3\n",
    "i_won = 0\n",
    "reps = 100000\n",
    "for i in range(reps):\n",
    "    secret_winning_door = np.random.choice(all_door_options)\n",
    "    all_door_options_list = list(all_door_options)\n",
    "    # take the secret_winning_door, so we don't show it as a \"goat\" losing door\n",
    "    all_door_options_list.remove(secret_winning_door)\n",
    "    try:\n",
    "        # if my_door_choice was secret_winning_door then it's already removed\n",
    "        all_door_options_list.remove(my_door_choice)\n",
    "    except:\n",
    "        pass\n",
    "    # show a \"goat\" losing door and remove it\n",
    "    goat_door_reveal = np.random.choice(all_door_options_list)\n",
    "    all_door_options_list.remove(goat_door_reveal)\n",
    "\n",
    "    # put the secret_winning_door back in if it wasn't our choice\n",
    "    # we previously removed it, so it would be shown as a  \"goat\" losing door\n",
    "    if secret_winning_door != my_door_choice:\n",
    "        all_door_options_list.append(secret_winning_door)\n",
    "    # if secret_winning_door was our choice then all that's left in the list is a \"goat\" losing door\n",
    "    # if secret_winning_door wasn't our choice then it's all that will be left in the list\n",
    "\n",
    "    # swap strategy\n",
    "    my_door_choice = all_door_options_list[0]\n",
    "\n",
    "    if my_door_choice == secret_winning_door:\n",
    "        i_won += 1\n",
    "\n",
    "i_won/reps"
   ]
  },
  {
   "cell_type": "markdown",
   "id": "b1985697e415697b",
   "metadata": {},
   "source": [
    "## Communication [35 minutes]\n",
    "\n",
    "> I asked a ChatBot to create a group activity for you that was related to decision-making under uncertainty using probability, and it produced the following questions.\n",
    "> > This is a little bit like the suggestion in the \"Afterward\" of Homework last weeks to ask a ChatBot to suggest and explain some other \"unintuitive surprising statistics paradoxes\" (besides the \"World War 2 Plane\" and \"Monte Hall\" problems)\n",
    " \n",
    "1. **[15 of the 35 minutes]** Break into 5 new groups of 4-5, and assign the following 5 questions to the 5 groups. [Consider allowing students to preferentially select which group they join by calling for volunteers for each prompt.] *For each of the prompts, the groups will consider the pros and cons of two options, the potential impact of a decision to persue one of the options, and how they take into account how uncertainty influences their thinking about the options.*\n",
    "\n",
    "    1. Stock Investment Strategy: Students are investors trying to maximize their returns in the stock market. They must decide between two investment strategies: \"diversified portfolio\" or \"focused portfolio.\" Each strategy has different probabilities of success based on market conditions.\n",
    "        1. Diversified Portfolio: Spread investments across multiple industries.\n",
    "        2. Focused Portfolio: Concentrate investments in a few high-potential stocks.\n",
    "    2. Healthcare Treatment Decision: Students are healthcare professionals deciding between two treatment options for a patient's condition. Each treatment has different success rates and potential side effects.\n",
    "        1. Treatment A: High success rate but moderate side effects.\n",
    "        2. Treatment B: Lower success rate but minimal side effects.\n",
    "    3. Sports Team Strategy: Students are coaches of a sports team planning their game strategy. They must decide between two tactics: \"offensive strategy\" or \"defensive strategy.\" Each strategy has different probabilities of winning based on the opponent's strengths and weaknesses.\n",
    "        1. Offensive Strategy: Focus on scoring goals/points aggressively.\n",
    "        2. Defensive Strategy: Prioritize defense to prevent the opponent from scoring.\n",
    "    4. Career Path Decision: Students are recent graduates deciding between two career paths: \"corporate job\" or \"entrepreneurship.\" Each path has different probabilities of success and factors to consider, such as job security, income potential, and work-life balance.\n",
    "        1. Corporate Job: Stable income but limited growth opportunities.\n",
    "        2. Entrepreneurship: Higher potential for success but greater risk and uncertainty.\n",
    "    5. Environmental Conservation Strategy: Students are environmental activists advocating for conservation efforts in a wildlife reserve. They must decide between two conservation strategies: \"habitat preservation\" or \"species reintroduction.\" Each strategy has different probabilities of achieving long-term sustainability for the ecosystem.\n",
    "        1. Habitat Preservation: Protect existing habitats from human encroachment.\n",
    "        2. Species Reintroduction: Reintroduce endangered species to restore ecological balance.\n",
    "\n",
    "2. **[20 of the 35 minutes]** Each group prepares a brief (approximately 3 minute) summary outlining their decision and the rationale behind it. Groups should address the expected outcomes, the risks involved, and why they believe their choice is the best in light of their characterization of the degree uncertainty present in their context. If time permits, engaging in some (students or TA) Q&A seeking clarification or challenging group decisions would be ideal."
   ]
  },
  {
   "cell_type": "markdown",
   "id": "f014006ff8809433",
   "metadata": {},
   "source": [
    "## Homework [0 minutes]\n",
    "\n",
    "Code and write all your answers (for both the \"Prelecture\" and \"Postlecture\" HW) in a python notebook (in code and markdown cells) and paste summaries of your ChatBot sessions (including link(s) to chat log histories if you're using ChatGPT) within your notebook.\n",
    "\n",
    "> You can create summaries of your ChatBot sessions by using concluding prompts such as\n",
    "> 1. \"Please provide a summary of our exchanges here so I can submit them as a record of our interactions as part of a homework assignment\"; and, \n",
    "> 2. \"Please provide me with the final working verson of the code that we created together\".\n",
    "\n",
    "Save your python jupyter notebook in your own account and \"repo\" on [github.com](github.com) and submit a link to that notebook though Quercus for assignment marking. \n",
    "\n",
    "> A reasonable characterization of STA130 Homework is that it simply defines a weekly reading comprehension assignment. \n",
    "> Indeed, STA130 Homework essentially boils down to completing various understanding confirmation demonstration exercises oriented around coding and writing tasks.\n",
    "> However, rather than reading a textbook, STA130 Homework is based on ChatBots so students can interactively follow up to clarify questions or confusion that they may still have regarding learning objective assignments.\n",
    ">\n",
    "> > Communication is a fundamental skill underlying statistics and data science, so STA130 Homework based on ChatBots helps practice effective two-way communication as part of a \"realistic\" dialogue activity supporting underlying conceptual understanding building. \n",
    ">\n",
    "> It will likely become increasingly tempting to rely on ChatBots to \"do the work for you\". But when you find yourself frustrated with a ChatBots inability to give you the results you're looking for, this is a \"hint\" that you've become overreliant on the ChatBots. Your objective should not be to have ChatBots \"do the work for you\", but to use ChatBots to help you build your understanding so you can efficiently leverage ChatBots (and other resources) to help you work more efficiently.\n",
    "> \n",
    "> #### Prompt Engineering? \n",
    ">\n",
    "> The questions (as copy-pasted prompts) are designed to initialize appropriate ChatBot conversations which can be explored in the manner of an interactive and dynamic textbook; but, it is nonetheless **strongly recommendated** that your rephrase the questions in a way that you find natural to ensure a clear understanding of the question. Given sensible prompts the represent a question well, the two primary challenges observed to arise from ChatBots are \n",
    "> 1. conversations going beyond the intended scope of the material addressed by the question; and, \n",
    "> 2. unrecoverable confusion as a result of sequential layers logial inquiry that cannot be resolved. \n",
    ">\n",
    "> In the case of the former (1), adding constraints specifying the limits of considerations of interest tends to be helpful; whereas, the latter (2) is often the result of initial prompting that leads to poor developments in navigating the material, which are likely just best resolve by a \"hard reset\" with a new initial approach to prompting.  Indeed, this is exactly the behavior [hardcoded into copilot](https://answers.microsoft.com/en-us/bing/forum/all/is-this-even-normal/0b6dcab3-7d6c-4373-8efe-d74158af3c00)... the thing is, you'll like it better if you do it to copilog before copilot does it to you ;)\n",
    "\n",
    "\n",
    "\n",
    "\n",
    "\n",
    "> Code and write all your answers (for both the \"Prelecture\" and \"Postlecture\" HW) in a python notebook (in code and markdown cells) and save your python jupyter notebook in your own account and \"repo\" on [github.com](github.com) and submit a link to that notebook though Quercus for assignment marking.\n",
    "\n",
    "#### *The marking rubic (which may award partial credit) is as follows:*\n",
    "\n",
    "- [0.1 points]: All relevant ChatBot summaries [including link(s) to chat log histories if you're using ChatGPT] are reported within the notebook\n",
    "- [0.3 points]: Assignment completion confirmed by working \"final\" code and ChatBot summaries for \"3\"\n",
    "- [0.3 points]: Written submission evaluation and enagement confirmation with ChatBot summaries for \"6\"\n",
    "- [0.3 points]: Evaluation of engagement and evaluation of written communication in \"7\"\n",
    "\n",
    "> The \"Ethical Profesionalism\" and \"Course Project\" sections below **are not a part of the submitted homework**; however, they will be a regularly available re-occuring weekly series guiding you through (a) relevant considerations regarding proper professional and ethical conduct, and (b) demonstrating the steps of large data analyses as illustrated through the example of the the STA130 course project, <u>both of which will likely be of interest and useful if they are consistently engaged with over the course of the semester.</u>\n"
   ]
  },
  {
   "cell_type": "markdown",
   "id": "cd5f7753",
   "metadata": {},
   "source": [
    "### *Scope Constraints and Relevant Resources*\n",
    "\n",
    "Please see the course [wiki-textbook](https://github.com/pointOfive/STA130_ChatGPT/wiki) for the list of topics covered in this homework assignment; and, **importantly**, a list of topics that might appear during ChatBot conversations which are \"out of scope\" for the purposes of this homework assignment and hence can be safely ignored while working through the homework assignment. \n"
   ]
  },
  {
   "cell_type": "markdown",
   "id": "8ba3ff01",
   "metadata": {},
   "source": [
    "### Prelecture HW\n",
    "\n",
    "1. Begin (or restart) part \"3A\" of the **Demo** above and interact with a ChatBot to make sure you understand how each part the Monte Hall problem code above works \n",
    "> ChatBots typically explain code fairly effectively; so a ChatBot will probably be very helpful if you share the full Monte Hall problem code; but, you can always introduce more specific and targetted prompts that help focus and format ChatBot responses as needed\n",
    "> - ChatBots won't always re-introduce and re-explain the Monte Hall problem itself, so if you need it to do so you may need to specifically request this as part of your prompt or follow up interactions\n",
    "\n",
    "\n",
    "2. Extend your ChatBot sessions to now address part \"3B\" of the **Demo** above and interact with your ChatBot to see if it can suggest a simpler, more streamlined way to code up this `for` loop simulation so the process is more clear and easier to understand \n",
    "    > The links in the **Demo** above show that there can be a lot of variation in the quality of the code improvements suggested by ChatBots.\n",
    "    1. Describe any preferences you have in terms of readibility or explainability  between the original code and the code improvements suggested by the ChatBot\n",
    "    \n",
    "    \n",
    "3. Submit your preferred version of the Monty Hall problem that is verified to be running and working with a final printed output of the code\n",
    "    1. Add code comments explaining the purpose of each line of the code\n",
    "        > Your ChatBot will likely do much of this for you, but verify for yourself that you understand each comment and reword comments wherever you think it would be better to explain it differently\n",
    "    2. Remember to ask for summaries of your current session and paste these into your homework notebook  (including link(s) to chat log histories if you're using ChatGPT)\n",
    "    \n",
    "    \n",
    "4.  Watch the embedded video tutorial on Markov chains in the next Jupyter cell below to understand their application and relevance for ChatBots \n",
    "    1. After watching the video, start a new ChatBot session by prompting that you have code that creates a \"Markov ChatBot\"; show it the first version of the \"Markov ChatBot code\" below; and interact with the ChatBot session to make sure you understand how the original first version of the \"Markov ChatBot code\" works\n",
    "        > If the ChatBot prompts you as to how you will \"train\" your own \"Markov ChatBot\" you can reply that you'll just use a series of stories with a lot of different characters\n",
    "    2. Ask for summaries of this second ChatBot session and paste these into your homework notebook (including link(s) to chat log histories if you're using ChatGPT)\n",
    "    "
   ]
  },
  {
   "cell_type": "code",
   "execution_count": null,
   "id": "a52754504a625b36",
   "metadata": {},
   "outputs": [],
   "source": [
    "# Markov Chains and Text Generation\n",
    "from IPython.display import YouTubeVideo\n",
    "YouTubeVideo('56mGTszb_iM', width = 550)"
   ]
  },
  {
   "cell_type": "markdown",
   "id": "dcbde4ee",
   "metadata": {},
   "source": [
    "#### *Feel free to work on the Postlecture HW below if you're making good progress and want to continue!*\n",
    "\n",
    "- In this case this, is particularly reasonable as questions \"5-7\" below directly follow up and extend **Prelecture HW** question \"4\"\n",
    "    > The benefits of continue would are that (a) it might be fun to try to tackle the challenge of working through these questions without additional preparation or guidance; and (b) this is a very valable skill to be comfortable with; and (c) it will let you build experience interacting with ChatBots (and beginning to understand their strengths and limitations in this regard)... it's good to have sense of when using a ChatBot is the best way to figure something out, or if another approach (such as a plain old websearch for the right resourse, or course provided resources) would be better"
   ]
  },
  {
   "cell_type": "markdown",
   "id": "b489452e",
   "metadata": {},
   "source": [
    "### Postlecture HW\n",
    "\n",
    "5. Recreate (or resume) the previous ChatBot session from question \"4\" above, and now  prompt the ChatBot session that you have a couple extensions of the code to show it, and then show it each of the extentions of the \"Markovian ChatBot code\" below in turn\n",
    "    1. Without just supplying your ChatBot session with the answers, see if the ChatBot can figure out what the extensions in the code do; namely, making character specific Markov chains, and using bigrams (rather than just the previous word alone) dependency... prompt your ChatBot session with some hints if it's not seeming to \"get it\"\n",
    "    2. Interact with your ChatBot session to have it explain details of the code wherever you need help understanding what the code is doing and how it works\n",
    "    3. Start yet another new ChatBot session and first show the ChatBot the original \"Markovian ChatBot code\" below, and then tell ChatBot that you have an extension but this time just directly provide it the more complicated final extension without ever providing the intermediate extension code to the ChatBot session and see if it's still able to understand everything extension does; namely, making character specific Markov chains, and using bigrams (rather than just the previous word alone) dependency... prompt the ChatBot with some hints if it's not seeming to \"get it\"\n",
    "    4. Ask for summaries of this second ChatBot session and paste these into your homework notebook (including link(s) to chat log histories if you're using ChatBot)\n",
    "    \n",
    "    > Unlike with the Monte Hall problem, we will not inquire with the ChatBot to see if it can suggest any streamlining, readability, or usability improvements to the alternative versions of the \"Markovian ChatBot code\" we're examining\n",
    "    > - Doing so seems to result in the attempted creation of dubiously functional modular code with a focus on reusability\n",
    "    > - This is likely because ChatBot design is primarily a \"computer science\" topic, so ChatBot reponses here tend to orient around programming and system design principles (despite \"Markovian\" very much being a \"statistics\" topic)\n",
    "    > - **Programming and system design principles are beyond the scope of STA130; but, they are critical for modern data science careers... if you are interested in pursuing a data science career, it imperitive that you complete courses like CSC263, CSC373, and perhaps an additional \"systems design\" course.** \n",
    "    \n",
    "    \n",
    "6. Report on your experience interacting with ChatBots to understand the Monte Hall problem and \"Markovian ChatBot\" code\n",
    "    1. Discuss how quickly the ChatBot was able to be helpful for each of the above questions, and if so, how?\n",
    "    2. Discuss whether or not interacting with ChatBot to try to figure things out was frustrating or unhelpful, and if so, how?\n",
    "    3. Based on your experiences to date (e.g., including using ChatBots to troubleshoot coding errors in the previous homework), provide an overall assessment evaluating the usefulness of ChatBots as tools to help you understand code \n",
    "    \n",
    "    \n",
    "7. Reflect on your experience interacting with ChatBot and describe how your perception of AI-driven assistance tools in the context of learning coding, statistics, and data science has been evolving (or not) since joining the course\n",
    "\n",
    "> This, and the next question \"8\" are somewhat related to the first bullet point in the suggested interactions of the \"Afterword\" to the Homework from last week. You might consider reviewing that if you'd like a little extra orienting around what these questions are trying to have you explore.\n",
    "\n",
    "\n",
    "8. ChatBots consume text data available on the web or platforms, and thus represents a new way to \"search consensensus\" that condenses and summarizes mainstream human thought\n",
    "\n",
    "    > While question 8 is not a part of the rubric, it is nonetheless a very good exercise that will likely be valuable for you if you engage in them sincerely\n",
    "\n",
    "    1. Start a new ChatBot session and discuss the relevance of learning and adaptability, communication, coding, and statistics and data analysis as skills in the modern world, especially with respect to career opportunities (particularly in the context of the data science industry)\n",
    "    2. See if ChatBot thinks you could be a statistician or data scientist without coding or doing data analysis, and then transition your ChatBot conversation into a career exploration discussion, using the ChatBot to identify the skills that might be the most valuable for a career that you're interested \n",
    "    3. Ask for a summary of this ChatBot session and paste it into your homework notebook (including link(s) to chat log histories if you're using ChatBot)\n",
    "    4. Paraphrase the assessments and conclusions of your conversation in the form of a reflection on your current thoughts regarding your potential future career(s) and how you can go about building the skills you need to pursue it\n",
    "    \n",
    "\n",
    "9. Have you reviewed the course [wiki-textbook](https://github.com/pointOfive/STA130_ChatGPT/wiki) and interacted with a ChatBot (or, if that wasn't sufficient, real people in the course piazza discussion board or TA office hours) to help you understand all the material in the tutorial and lecture that you didn't quite follow when you first saw it?\n",
    "> Just answering \"Yes\" or \"No\" or \"Somewhat\" or \"Mostly\" or whatever here is fine as this question isn't a part of the rubric; but, the midterm and final exams may ask questions that are based on the tutorial and lecture materials; and, your own skills will be limited by your familiarity with these materials (which will determine your ability to actually do actual things effectively with these skills... like the course project...)"
   ]
  },
  {
   "cell_type": "code",
   "execution_count": null,
   "id": "16f95257fb4fda6c",
   "metadata": {},
   "outputs": [],
   "source": [
    "# Markovian Chatbot\n",
    "\n",
    "# from collections import defaultdict\n",
    "word_used = dict() # defaultdict(int)\n",
    "next_word = dict() # defaultdict(lambda: defaultdict(int))\n",
    "for i,word in enumerate(words[:-1]):\n",
    "\n",
    "    if word in word_used:\n",
    "        word_used[word] += 1\n",
    "    else:\n",
    "        word_used[word] = 1\n",
    "        next_word[word] = {}\n",
    "\n",
    "    if words[i+1] in next_word[word]:\n",
    "        next_word[word][words[i+1]] += 1\n",
    "    else:\n",
    "        next_word[word][words[i+1]] = 1"
   ]
  },
  {
   "cell_type": "code",
   "execution_count": null,
   "id": "bd0e5d2163411e8e",
   "metadata": {},
   "outputs": [],
   "source": [
    "# Markovian Chatbot Extension #1\n",
    "\n",
    "word_used2 = defaultdict(int)\n",
    "next_word2 = defaultdict(lambda: defaultdict(int))\n",
    "for i,word in enumerate(words[:-2]):\n",
    "    word_used2[word+' '+words[i+1]] += 1\n",
    "    next_word2[word+' '+words[i+1]][words[i+2]] += 1 "
   ]
  },
  {
   "cell_type": "code",
   "execution_count": null,
   "id": "33fe616edecddb60",
   "metadata": {},
   "outputs": [],
   "source": [
    "# Markovian Chatbot Extension #2\n",
    "\n",
    "from collections import Counter, defaultdict\n",
    "# `avatar` is a dataset, and `character` is one of it's columns\n",
    "characters = Counter(\"\\n\"+ avatar.character.str.upper().str.replace(' ','.')+\":\")\n",
    "# this code changes the type of the `character` column to `str`; then,\n",
    "# makes the text uppercase, and replaces spaces with '.'\n",
    "\n",
    "nested_dict = lambda: defaultdict(nested_dict)\n",
    "word_used2C = nested_dict()\n",
    "next_word2C = nested_dict()\n",
    "\n",
    "for i,word in enumerate(words[:-2]):\n",
    "    if word in characters:\n",
    "        character = word\n",
    "        \n",
    "    if character not in word_used2C:\n",
    "        word_used2C[character] = dict()\n",
    "    if word+' '+words[i+1] not in word_used2C[character]:\n",
    "        word_used2C[character][word+' '+words[i+1]] = 0\n",
    "    word_used2C[character][word+' '+words[i+1]] += 1\n",
    "    \n",
    "    if character not in next_word2C:\n",
    "        next_word2C[character] = dict()\n",
    "    if word+' '+words[i+1] not in next_word2C[character]:\n",
    "        next_word2C[character][word+' '+words[i+1]] = dict()\n",
    "    if words[i+2] not in next_word2C[character][word+' '+words[i+1]]:\n",
    "        next_word2C[character][word+' '+words[i+1]][words[i+2]] = 0\n",
    "    next_word2C[character][word+' '+words[i+1]][words[i+2]] += 1"
   ]
  },
  {
   "cell_type": "markdown",
   "id": "661716b1",
   "metadata": {},
   "source": [
    "## Ethical Professionalism\n",
    "\n",
    "1. If you've not heard of the \"reproducibility crisis\" in science, have a ChatBot explain it to you\n",
    "2. If you've not heard of the \"open source software\" (versus proprietary software), have a ChatBot explain it to you\n",
    "3. \"Reproducibility\" can also be considered at the level of a given data analysis project: can others replicate the results of code or analysis that you've done?\n",
    "    1. Discuss with a ChatBot how jupyter notebooks and github can be used facilitate transparency and reproducibility in data analysis\n",
    "4. Discuss with a ChatBot what the distinction is between replicability of scientific experiments, versus the replicability of a specific data analysis project, and what your responsibility as an analyst should be with respect to both\n",
    "5. Do you think proprietary (non \"open source software\") software, such as Microsoft Word, Outlook, and Copilot tends to result in high quality products?  \n",
    "    1. Do you think software product monopolies (such as the UofT dependence on Microsoft products) makes the world a better place?\n"
   ]
  },
  {
   "cell_type": "markdown",
   "id": "c8e458eb",
   "metadata": {},
   "source": [
    "## Course Project\n",
    "\n",
    "> Remember to abide by the [data use agreement](https://static1.squarespace.com/static/60283c2e174c122f8ebe0f39/t/6239c284d610f76fed5a2e69/1647952517436/Data+Use+Agreement+for+the+Canadian+Social+Connection+Survey.pdf) at all times.\n",
    "\n",
    "At this point in the course you should be able to create a `for` loop to iterate through and provide **simple summaries** of some of the interesting columns in the course project data\n",
    "\n",
    "- You should take some time to create a printout format that displays relavent summaries and the missing data counts for a given set of columns being examined\n",
    "- Being able run your code with different subsets of column is one version of the programming design principle of \"polymorphism\" (which means \"many uses\") which states that code is best when it's \"resuable\" and can be resused for different purposes... such as for giving printouts of different subsets of columns as interest in different variables changes "
   ]
  },
  {
   "cell_type": "code",
   "execution_count": null,
   "id": "fc9878be",
   "metadata": {},
   "outputs": [],
   "source": []
  }
 ],
 "metadata": {
  "kernelspec": {
   "display_name": "Python 3 (ipykernel)",
   "language": "python",
   "name": "python3"
  },
  "language_info": {
   "codemirror_mode": {
    "name": "ipython",
    "version": 3
   },
   "file_extension": ".py",
   "mimetype": "text/x-python",
   "name": "python",
   "nbconvert_exporter": "python",
   "pygments_lexer": "ipython3",
   "version": "3.11.4"
  }
 },
 "nbformat": 4,
 "nbformat_minor": 5
}
