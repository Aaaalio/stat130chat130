{
 "cells": [
  {
   "cell_type": "markdown",
   "id": "d7d66e0b",
   "metadata": {
    "slideshow": {
     "slide_type": "slide"
    }
   },
   "source": [
    "# STA130 TUT 06 (Oct25)<br> <u> Fitting and Hypothesis Testing for Simple Linear Regression <u>"
   ]
  },
  {
   "cell_type": "markdown",
   "id": "1bfd7d29",
   "metadata": {
    "slideshow": {
     "slide_type": "slide"
    }
   },
   "source": [
    "## Review / Questions [10 minutes]\n",
    "\n",
    "1. Follow up questions and clarifications regarding the **Hypothesis Testing** topic from the Sep06 TUT and Sep09 LEC\n",
    "    > 1. Understanding Hypothesis Testing from a fundamental perspective is very important because we're going to be extending it in more complex ways moving forward. So it's crucial that the foundations of Hypothesis Testing, including concepts like the null hypothesis, alternative hypothesis, and p-value, are well-understood. These basics will serve as the cornerstone for more advanced analyses, such as Simple Linear Regression (SLR), which we will explore later.\n"
   ]
  },
  {
   "cell_type": "markdown",
   "id": "f4816de6",
   "metadata": {
    "slideshow": {
     "slide_type": "slide"
    }
   },
   "source": [
    "## Communication Activity \\#1 [15 minutes]\n",
    "\n",
    "<details class=\"details-example\">\n",
    "    <summary style=\"color:blue\">\n",
    "        <u>Return to your groups of 4 or 5 from the \"Communication Acivity,\" Stella McStat's Wheel of Destiny, from previous tutorial.\n",
    "        </u>\n",
    "    </summary> Only if you can still recall it after your <b>MIDTERM</b> (hope you enjoyed it); if not, (hope you are not talking about not enjoying our midterm),don't worry, just form a random group (just studying harder for your final).\n",
    "</details>\n",
    "\n",
    "<br>\n",
    "Together, discuss the following things:\n",
    "\n",
    "1. \\[5 of 15 minutes\\] What is p-value, alternative hypothesis, and null hypothesis? You may use chatbots to help you recall the concepts.\n",
    "\n",
    "2. \\[10 of 15 minutes\\] Recall what you learned from the lecture. Could you link the those concept to Simple linear regression? E.g. Try to relate this to your intercept. \n",
    "\n",
    "\n"
   ]
  },
  {
   "cell_type": "markdown",
   "id": "b0bfe9a1",
   "metadata": {
    "slideshow": {
     "slide_type": "slide"
    }
   },
   "source": [
    "## Demo [55 minutes]<br>*Model Fitting and Hypothesis Testing for the Simple Linear Regression Model* \n",
    "\n",
    "$$ \\huge Y_i = \\beta_0 + \\beta_1 x_i + \\epsilon_i \\quad \\text{ where } \\quad \\epsilon_i \\sim \\mathcal N\\left(0, \\sigma^2\\right)$$\n",
    "\n",
    "<br>"
   ]
  },
  {
   "cell_type": "markdown",
   "id": "c9e2a651",
   "metadata": {
    "slideshow": {
     "slide_type": "slide"
    }
   },
   "source": [
    "### Terminology [5 of the 55 minutes]\n",
    "\n",
    "- **Outcome** $Y_i$ is a **continuous** numeric variable\n",
    "    > **Outcome** $Y_i$ can also be called a **response**, **dependent**, or **endogenous variable** in some domains and contexts\n",
    "\n",
    "- **Predictor variable** $x_i$ is a **numeric variable**\n",
    "    > - Fow now we'll consider $x_i$ to be a **continuous** numeric variable, but this is not necessary, and we will consider versions of $x_i$ later\n",
    "    > - **Predictor variable** $x_i$ can also be called a **explanatory**, **independent**, or **endogenous variable**, or a **covariate** or **feature** (which are the preferred terms in the statistics and machine learning domains, respectively)\n",
    "    \n",
    "\n",
    "- **Intercept** $\\beta_0$ and **slope** $\\beta_1$ are the two **parameters** in the **simple linear regression model** \n",
    "    > **Intercept** and **slope** describe a (**linear**) relationship between **outcome** $Y_i$ and **predictor variable** $x_i$\n",
    "\n",
    "- **Error** $\\epsilon_i$ (also sometimes called the **noise**) are what make this a **statistical model** by introducing a **random variable** with a **distribution**\n",
    "\n",
    "    > **Errors** $\\epsilon_i$ (in conjuction with the **linear form**) define the previously [Oct21 LEC 06] discussed **assumptions** of this **simple linear regression model** specification\n",
    "    > - <u>but these **assumptions** are not the focus of further detailed reviewed here</u>"
   ]
  },
  {
   "cell_type": "markdown",
   "id": "a9c38224",
   "metadata": {
    "slideshow": {
     "slide_type": "slide"
    }
   },
   "source": [
    "### The Linear Regression Model [15 of 55 minutes]\n",
    "<img src=\"https://mobiledevmemo.com/wp-content/uploads/2012/10/w5449egf111.gif\" alt=\"\" style=\"width: 450px;\"/>\n",
    "\n",
    "\n",
    "- The key idea in our understanding of linear regression is that we can attribute a linear relationship to a particular dataset.\n",
    "<br><br>"
   ]
  },
  {
   "cell_type": "markdown",
   "id": "b3f5c501",
   "metadata": {
    "slideshow": {
     "slide_type": "slide"
    }
   },
   "source": [
    "1. Discuss how the idea of $y=mx+b$ can be extended to be a **statistical model** \n",
    "\n",
    "   $$Y_i = \\beta_0 + \\beta_1 x_i + \\epsilon_i \\quad \\text{ where } \\quad \\epsilon_i \\sim \\mathcal N\\left(0, \\sigma^2\\right)$$\n",
    "   \n",
    "   > This is done to incorporate **distribuitonal assumptions** that can be leveraged for **inference purposes** (of **estimation** and **hypothesis testing**)\n",
    "\n",
    "2. Address some of the the first two assumptions associated with the above so-called **simple linear regression model** (with the remaining assumptions being \"beyond the scope\" of STA130)\n",
    "\n",
    "    > 1. The $\\epsilon_i$ **errors** (sometimes referred to as the **noise**) are **normally distributed**\n",
    "    > 2. The $\\epsilon_i$ **errors** are **homoscedastic** (so their distributional variance does not change as a function of $x_i$)<br><br>\n",
    "    > 3. The linear form is \"true\" (so the behavior of the $Y_i$ **outcomes** are [at least reasonably approximately] represented/determined by the **linear equation**)\n",
    "    > 4. The $\\epsilon_i$ **errors** are **unbiased** relative to the **expected value** of **outcome** $E[Y_i|x_i]=\\beta_0 + \\beta_1x_i$ (which is equivalently stated by saying that the mean of the **errors** is $0$, or again equivalently, that the **expected value** of the **errors** $E[\\epsilon_i] = 0$)\n",
    "    > 5. The $x_i$ **predictor variable** is **measured without error**\n",
    "    > 4. And The $\\epsilon_i$ **errors** are **statistically independent** (so their values do not depend on each other)<br>\n",
    "\n"
   ]
  },
  {
   "cell_type": "markdown",
   "id": "3083ba3e",
   "metadata": {
    "slideshow": {
     "slide_type": "slide"
    }
   },
   "source": [
    "### Fitted Model [15 of the 55 minutes]\n",
    "\n",
    "- When we actually fit a **simple linear regression model** to a dataset, we obtain the following equation which contains **estimates** of what the data suggests the **intercept** and **slope** could be\n",
    "\n",
    "  $$\\Huge \\hat y_i = \\hat \\beta_0 + \\hat \\beta_1 x_i$$\n",
    "  \n",
    "    > Model fitting is typically based on the previously [Oct21 LEC 06] discussed \"least squares\" concept (maximizing **R-squared**) which analytical closed form solutions for **simple linear regression models** \n",
    "    > - but these considerations will not be the focus of further detailed reviewed here, <u>since we'll instead just focus on fitting models using the `python` `statsmodels` package</u>\n",
    "\n",
    "- The **fitted model** $\\hat y_i = \\hat \\beta_0 + \\hat \\beta_1 x_i$ equation distinctly contrasts with the $Y_i = \\beta_0 + \\beta_1 x_i + \\epsilon_i$ **theoretical model** specification \n",
    "    > To emphasize the difference, we will use the following notational terminology\n",
    "    > - **Fitted intercept** $\\hat \\beta_0$ and **slope** $\\hat \\beta_1$ ***coefficients*** are given \"hats\" to distinguish that they **estimate**, respectively, the **intercept** $\\beta_0$ and **slope** $\\beta_1$ ***parameters***\n",
    "    > - **Fitted values** $\\hat y_i$ are made lower case and also given \"hats\" to distinguish them from the (upper case) **theoretical random variable** $Y_i$ implied by the **theoretical simple linear regression model**\n",
    "    >    > Technically, the **error** $\\epsilon_i$ is the **random variable** specified by the **simple linear regression model** specification, and this implies the **random variable** nature of $Y_i$ \n",
    "    >    > - <u>but this is beyond the scope of STA130 and is a consideration for a more advanced statistic course</u>\n",
    "\n",
    "\n",
    "- The **residuals** $\\hat \\epsilon_i = y_i - \\hat y_i = y_i - \\hat \\beta_0 + \\hat \\beta_1 x_i $ also distinctly contrast with the **errors** $\\epsilon_i$\n",
    "    > The **residuals** $\\hat \\epsilon_i$ are actually available, while the **error** $\\epsilon_i$ are just a theoretical concept\n",
    "    >    > - The **residuals** $\\hat \\epsilon_i$ are nonetheless used to diagnostically assess the theoretical modeling assumptions of the  **errors** $\\epsilon_i$, such as the **normality**, **homoskedasticity**, and **linear form** assumptions; and, <u>while this is a not necessarily beyond the scope of STA130 and would certainly be a relevant consideration for the course project, this will not be addressed here at this time</u>\n",
    "    "
   ]
  },
  {
   "cell_type": "markdown",
   "id": "43185ef7",
   "metadata": {
    "slideshow": {
     "slide_type": "slide"
    }
   },
   "source": [
    "### SLR [10 of 55 minutes]\n",
    "\n",
    "#### Scenario Introduction:\n",
    "> Imagine you noticed that the prices of shuttlecocks in the nearby store have increased. At the same time, you are aware that there has been a recent surge in bird flu cases. You suddenly wonder if there might be a connection between these two events. To explore this, we'll perform a simple linear regression (SLR) analysis to see if there is a relationship between the number of bird flu cases and the price of shuttlecocks.\n",
    "\n",
    "|<img src=\"https://www.mumbailive.com/images/news/bird-flu1_151660804012.jpg?w=1368\" alt=\"Bird Flu\" style=\"width: 500px; height: 300px;\"/>|<img src=\"https://www.badmintonskills.net/wp-content/uploads/2015/09/Badminton-004.jpg?x83573\" alt=\"Shuttlecock\" style=\"width: 250px; height: 300px;\"/>|\n",
    "|-|-|\n",
    "| | |\n",
    "\n",
    "- Identify two sets of predictor (independent) and outcome (variables) with students and plot them.\n",
    "- Let's generate two sets of data using ChatGPT or another chatbot. Each set will include the number of bird flu cases and the corresponding increase in the price of Shuttlecocks for the same period. <br><br>\n",
    "#### Here is an example format:\n",
    "\n",
    "|Bird Flu Cases |Shuttlecock Price Increase ($)|\n",
    "|:--------------|:------------------------|\n",
    "|1000           |3.0                      |\n",
    "|1522           |4.2                      |\n",
    "|...            |...                      |\n",
    "\n",
    "Or you could use the actual Shuttlecocks Price as the second column. \n",
    "<br>\n",
    "#### \n",
    "- Demonstrate using smf how a trendline can be plotted and how we can use it to find estimates of the parameters of the linear regression model.\n",
    "- Demonstrate how to display the summary of the smf model and highlight key areas **(Coefficients of Intercept and Slope, R-squared value, p value)**"
   ]
  },
  {
   "cell_type": "code",
   "execution_count": 10,
   "id": "e18f2a7b",
   "metadata": {
    "slideshow": {
     "slide_type": "subslide"
    }
   },
   "outputs": [
    {
     "data": {
      "image/png": "[encoded data removed]",
      "text/plain": [
       "<Figure size 640x480 with 1 Axes>"
      ]
     },
     "metadata": {},
     "output_type": "display_data"
    }
   ],
   "source": [
    "import pandas as pd\n",
    "import numpy as np\n",
    "import statsmodels.formula.api as smf\n",
    "import seaborn as sns\n",
    "import matplotlib.pyplot as plt\n",
    "\n",
    "# Example data\n",
    "data = {\n",
    "    'Bird_Flu_Cases': [1000, 1522, 1300, 1800, 900, 1100, 1700, 1400, 1600, 1200],\n",
    "    'Shuttlecock_Price_Increase': [3.0, 4.3, 3.7, 5.0, 2.8, 3.1, 4.7, 3.9, 4.5, 3.2]\n",
    "}\n",
    "df = pd.DataFrame(data)\n",
    "\n",
    "# Fitting the model\n",
    "model = smf.ols('Shuttlecock_Price_Increase ~ Bird_Flu_Cases', data=df).fit()\n",
    "\n",
    "# Plotting the trendline\n",
    "sns.regplot(x='Bird_Flu_Cases', y='Shuttlecock_Price_Increase', data=df, line_kws={'color': 'red'})\n",
    "plt.title('Bird Flu Cases vs. Shuttlecock Price Increase')\n",
    "plt.xlabel('Bird Flu Cases')\n",
    "plt.ylabel('Shuttlecock Price Increase ($)')\n",
    "plt.show()\n"
   ]
  },
  {
   "cell_type": "code",
   "execution_count": 11,
   "id": "e5c72561",
   "metadata": {
    "slideshow": {
     "slide_type": "subslide"
    }
   },
   "outputs": [
    {
     "name": "stderr",
     "output_type": "stream",
     "text": [
      "/opt/conda/lib/python3.11/site-packages/scipy/stats/_stats_py.py:1806: UserWarning: kurtosistest only valid for n>=20 ... continuing anyway, n=10\n",
      "  warnings.warn(\"kurtosistest only valid for n>=20 ... continuing \"\n"
     ]
    },
    {
     "data": {
      "text/html": [
       "<table class=\"simpletable\">\n",
       "<caption>OLS Regression Results</caption>\n",
       "<tr>\n",
       "  <th>Dep. Variable:</th>    <td>Shuttlecock_Price_Increase</td> <th>  R-squared:         </th> <td>   0.983</td>\n",
       "</tr>\n",
       "<tr>\n",
       "  <th>Model:</th>                        <td>OLS</td>            <th>  Adj. R-squared:    </th> <td>   0.981</td>\n",
       "</tr>\n",
       "<tr>\n",
       "  <th>Method:</th>                  <td>Least Squares</td>       <th>  F-statistic:       </th> <td>   472.8</td>\n",
       "</tr>\n",
       "<tr>\n",
       "  <th>Date:</th>                  <td>Sun, 28 Jul 2024</td>      <th>  Prob (F-statistic):</th> <td>2.11e-08</td>\n",
       "</tr>\n",
       "<tr>\n",
       "  <th>Time:</th>                      <td>01:18:02</td>          <th>  Log-Likelihood:    </th> <td>  9.2831</td>\n",
       "</tr>\n",
       "<tr>\n",
       "  <th>No. Observations:</th>           <td>    10</td>           <th>  AIC:               </th> <td>  -14.57</td>\n",
       "</tr>\n",
       "<tr>\n",
       "  <th>Df Residuals:</th>               <td>     8</td>           <th>  BIC:               </th> <td>  -13.96</td>\n",
       "</tr>\n",
       "<tr>\n",
       "  <th>Df Model:</th>                   <td>     1</td>           <th>                     </th>     <td> </td>   \n",
       "</tr>\n",
       "<tr>\n",
       "  <th>Covariance Type:</th>           <td>nonrobust</td>         <th>                     </th>     <td> </td>   \n",
       "</tr>\n",
       "</table>\n",
       "<table class=\"simpletable\">\n",
       "<tr>\n",
       "         <td></td>           <th>coef</th>     <th>std err</th>      <th>t</th>      <th>P>|t|</th>  <th>[0.025</th>    <th>0.975]</th>  \n",
       "</tr>\n",
       "<tr>\n",
       "  <th>Intercept</th>      <td>    0.3737</td> <td>    0.162</td> <td>    2.306</td> <td> 0.050</td> <td> 5.09e-06</td> <td>    0.747</td>\n",
       "</tr>\n",
       "<tr>\n",
       "  <th>Bird_Flu_Cases</th> <td>    0.0025</td> <td>    0.000</td> <td>   21.743</td> <td> 0.000</td> <td>    0.002</td> <td>    0.003</td>\n",
       "</tr>\n",
       "</table>\n",
       "<table class=\"simpletable\">\n",
       "<tr>\n",
       "  <th>Omnibus:</th>       <td> 6.714</td> <th>  Durbin-Watson:     </th> <td>   1.625</td>\n",
       "</tr>\n",
       "<tr>\n",
       "  <th>Prob(Omnibus):</th> <td> 0.035</td> <th>  Jarque-Bera (JB):  </th> <td>   2.534</td>\n",
       "</tr>\n",
       "<tr>\n",
       "  <th>Skew:</th>          <td>-1.139</td> <th>  Prob(JB):          </th> <td>   0.282</td>\n",
       "</tr>\n",
       "<tr>\n",
       "  <th>Kurtosis:</th>      <td> 3.943</td> <th>  Cond. No.          </th> <td>6.63e+03</td>\n",
       "</tr>\n",
       "</table><br/><br/>Notes:<br/>[1] Standard Errors assume that the covariance matrix of the errors is correctly specified.<br/>[2] The condition number is large, 6.63e+03. This might indicate that there are<br/>strong multicollinearity or other numerical problems."
      ],
      "text/latex": [
       "\\begin{center}\n",
       "\\begin{tabular}{lclc}\n",
       "\\toprule\n",
       "\\textbf{Dep. Variable:}    & Shuttlecock\\_Price\\_Increase & \\textbf{  R-squared:         } &     0.983   \\\\\n",
       "\\textbf{Model:}            &             OLS              & \\textbf{  Adj. R-squared:    } &     0.981   \\\\\n",
       "\\textbf{Method:}           &        Least Squares         & \\textbf{  F-statistic:       } &     472.8   \\\\\n",
       "\\textbf{Date:}             &       Sun, 28 Jul 2024       & \\textbf{  Prob (F-statistic):} &  2.11e-08   \\\\\n",
       "\\textbf{Time:}             &           01:18:02           & \\textbf{  Log-Likelihood:    } &    9.2831   \\\\\n",
       "\\textbf{No. Observations:} &                10            & \\textbf{  AIC:               } &    -14.57   \\\\\n",
       "\\textbf{Df Residuals:}     &                 8            & \\textbf{  BIC:               } &    -13.96   \\\\\n",
       "\\textbf{Df Model:}         &                 1            & \\textbf{                     } &             \\\\\n",
       "\\textbf{Covariance Type:}  &          nonrobust           & \\textbf{                     } &             \\\\\n",
       "\\bottomrule\n",
       "\\end{tabular}\n",
       "\\begin{tabular}{lcccccc}\n",
       "                          & \\textbf{coef} & \\textbf{std err} & \\textbf{t} & \\textbf{P$> |$t$|$} & \\textbf{[0.025} & \\textbf{0.975]}  \\\\\n",
       "\\midrule\n",
       "\\textbf{Intercept}        &       0.3737  &        0.162     &     2.306  &         0.050        &     5.09e-06    &        0.747     \\\\\n",
       "\\textbf{Bird\\_Flu\\_Cases} &       0.0025  &        0.000     &    21.743  &         0.000        &        0.002    &        0.003     \\\\\n",
       "\\bottomrule\n",
       "\\end{tabular}\n",
       "\\begin{tabular}{lclc}\n",
       "\\textbf{Omnibus:}       &  6.714 & \\textbf{  Durbin-Watson:     } &    1.625  \\\\\n",
       "\\textbf{Prob(Omnibus):} &  0.035 & \\textbf{  Jarque-Bera (JB):  } &    2.534  \\\\\n",
       "\\textbf{Skew:}          & -1.139 & \\textbf{  Prob(JB):          } &    0.282  \\\\\n",
       "\\textbf{Kurtosis:}      &  3.943 & \\textbf{  Cond. No.          } & 6.63e+03  \\\\\n",
       "\\bottomrule\n",
       "\\end{tabular}\n",
       "%\\caption{OLS Regression Results}\n",
       "\\end{center}\n",
       "\n",
       "Notes: \\newline\n",
       " [1] Standard Errors assume that the covariance matrix of the errors is correctly specified. \\newline\n",
       " [2] The condition number is large, 6.63e+03. This might indicate that there are \\newline\n",
       " strong multicollinearity or other numerical problems."
      ],
      "text/plain": [
       "<class 'statsmodels.iolib.summary.Summary'>\n",
       "\"\"\"\n",
       "                                OLS Regression Results                                \n",
       "======================================================================================\n",
       "Dep. Variable:     Shuttlecock_Price_Increase   R-squared:                       0.983\n",
       "Model:                                    OLS   Adj. R-squared:                  0.981\n",
       "Method:                         Least Squares   F-statistic:                     472.8\n",
       "Date:                        Sun, 28 Jul 2024   Prob (F-statistic):           2.11e-08\n",
       "Time:                                01:18:02   Log-Likelihood:                 9.2831\n",
       "No. Observations:                          10   AIC:                            -14.57\n",
       "Df Residuals:                               8   BIC:                            -13.96\n",
       "Df Model:                                   1                                         \n",
       "Covariance Type:                    nonrobust                                         \n",
       "==================================================================================\n",
       "                     coef    std err          t      P>|t|      [0.025      0.975]\n",
       "----------------------------------------------------------------------------------\n",
       "Intercept          0.3737      0.162      2.306      0.050    5.09e-06       0.747\n",
       "Bird_Flu_Cases     0.0025      0.000     21.743      0.000       0.002       0.003\n",
       "==============================================================================\n",
       "Omnibus:                        6.714   Durbin-Watson:                   1.625\n",
       "Prob(Omnibus):                  0.035   Jarque-Bera (JB):                2.534\n",
       "Skew:                          -1.139   Prob(JB):                        0.282\n",
       "Kurtosis:                       3.943   Cond. No.                     6.63e+03\n",
       "==============================================================================\n",
       "\n",
       "Notes:\n",
       "[1] Standard Errors assume that the covariance matrix of the errors is correctly specified.\n",
       "[2] The condition number is large, 6.63e+03. This might indicate that there are\n",
       "strong multicollinearity or other numerical problems.\n",
       "\"\"\""
      ]
     },
     "execution_count": 11,
     "metadata": {},
     "output_type": "execute_result"
    }
   ],
   "source": [
    "# Displaying the summary\n",
    "model.summary()\n",
    "# or \n",
    "# print(model.summary())"
   ]
  },
  {
   "cell_type": "markdown",
   "id": "f81f8fbc",
   "metadata": {
    "slideshow": {
     "slide_type": "slide"
    }
   },
   "source": [
    "### Correlation [10 of 55 minutes]\n",
    "1. Briefly explain the idea that correlation measures the 'uniform strength of linear association' between an independent and dependent variable and that correlation is not 'causation'.\n",
    "\n",
    "\\begin{align}\n",
    "r_{xy} & = {} \\require{cancel}\\frac{Cov(x,y)}{s_x s_y} = \\frac{\\frac{1}{n-1} \\sum_{i=1}^n (x_i-\\bar x)(y_i-\\bar y)}{s_x s_y}\\\\ & = {}  \\frac{\\sum_{i=1}^n (x_i-\\bar x)(y_i-\\bar y)\\xcancel{/(n-1)}}{\\sqrt{\\sum_{i=1}^n (x_i-\\bar x)^2\\xcancel{/(n-1)}} \\sqrt{\\sum_{i=1}^n (y_i-\\bar y)^2\\xcancel{/(n-1)}} }\n",
    "\\end{align}\n",
    "\n",
    "2. Discuss the above formula, explaining how covariance is very similar to variance, except with x and y instead, and that correlation is the 'covariance between x and y scaled by their standard deviations'."
   ]
  },
  {
   "cell_type": "markdown",
   "id": "37549049",
   "metadata": {
    "slideshow": {
     "slide_type": "slide"
    }
   },
   "source": [
    "## Communication Activity \\#2 [20 minutes]\n",
    "\n",
    "\n",
    "#### Continue with the shuttlecock example:\n",
    "Remember we already had an increasing price of shuttlecocks? Now you are curious about whether there are other factors that could affect this price. You came up with an idea since you remember that from your microeconomics' class, your teacher said that there's something called 'complementary goods,' so you think there must be a relationship between them. You think area would be another factor. \n",
    "|<img src=\"https://cdn.dribbble.com/users/920/screenshots/3428730/attachments/750880/think_big.png\" alt=\"Think\" style=\"width: 300px; height: 300px;\"/>|<img src=\"https://images-na.ssl-images-amazon.com/images/I/81Rtc1jjrBL._SL1500_.jpg\" alt=\"Shuttlecock\" style=\"width: 250px; height: 300px;\"/>|\n",
    "|-|-|\n",
    "| | |\n",
    "\n",
    "\n",
    "\n",
    "#### Class Discussion:\n",
    "\n",
    "Break into 2 large groups. Try to figure out whether Racket Sale has a correlation to Shuttlecock Price using the table below. Is it a positive correlation, a negative correlation, or nothing? Try ploting it by yourself or with the help of ChatGPT/Chatbots and summarize their relationship. \n",
    "\n",
    "|Bird Flu Cases\t|Shuttlecock Price Increase ($)\t|Racket Sales\t|Region|\n",
    "|:---|:---|:---|:---|\n",
    "|1112|\t5.01|\t113.04|\tEast|\n",
    "|1985|\t8.93|\t19.58|\tSouth|\n",
    "|1142|\t4.44|\t113.12|\tSouth|\n",
    "|1528|\t5.89|\t83.60|\tNorth|\n",
    "|1741|\t7.31|\t51.53|\tWest|\n",
    "|1002|\t4.38|\t113.19|\tSouth|\n",
    "|1266|\t5.22|\t94.45|\tWest|\n",
    "|897|\t3.27|\t144.68|\tSouth|\n",
    "|1370|\t6.10|\t82.70|\tWest|\n",
    "|1294|\t6.05|\t72.00|\tEast|\n",
    "|892|\t3.59|\t128.32|\tWest|\n",
    "|706|\t2.69|\t154.62|\tEast|\n",
    "|1538|\t7.38|\t57.84|\tEast|\n",
    "|1391|\t6.04|\t84.11|\tWest|\n",
    "|1984|\t8.77|\t24.18|\tEast|\n",
    "|1363|\t6.15|\t79.13|\tNorth|\n",
    "|1242|\t5.08|\t101.66|\tEast|\n",
    "|1764|\t7.64|\t47.26|\tSouth|\n",
    "|1063|\t4.95|\t98.57|\tWest|\n",
    "|1520|\t6.45|\t72.21|\tNorth|\n",
    "\n",
    "\n",
    "#### Introduction to Multiple Linear Regression:\n",
    "\n",
    "Does multiple linear regression sounds familiar to you? Given its name, how different would it be from the simple linear regression? (Don't say one is simple, the other one is multiple/difficult.) How would multiple factors affect the results? What's the difference between confounding variables and other affecting factors? \n",
    "\n",
    "#### Present\n",
    "Discuss for 10 minutes and then each group presents for 3 minutes.\n",
    "\n",
    "#### Q&A:\n",
    "\n",
    "Do you have any questions?"
   ]
  },
  {
   "cell_type": "code",
   "execution_count": null,
   "id": "a7b0b792",
   "metadata": {},
   "outputs": [],
   "source": []
  }
 ],
 "metadata": {
  "celltoolbar": "Slideshow",
  "kernelspec": {
   "display_name": "Python 3 (ipykernel)",
   "language": "python",
   "name": "python3"
  },
  "language_info": {
   "codemirror_mode": {
    "name": "ipython",
    "version": 3
   },
   "file_extension": ".py",
   "mimetype": "text/x-python",
   "name": "python",
   "nbconvert_exporter": "python",
   "pygments_lexer": "ipython3",
   "version": "3.11.6"
  }
 },
 "nbformat": 4,
 "nbformat_minor": 5
}
