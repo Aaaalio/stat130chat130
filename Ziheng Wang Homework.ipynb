{
 "cells": [
  {
   "cell_type": "code",
   "execution_count": null,
   "id": "0544c8b5",
   "metadata": {},
   "outputs": [],
   "source": [
    "Analysis: Impact of Lottery Promotions on Product Sales Compared to Direct Sales\n",
    "Research Question\n",
    "Does offering a lottery promotion for a product lead to higher sales volumes compared to directly selling the product without a promotional lottery?\n",
    "Variables and Exploration\n",
    "•Sales Volume: Continuous variable representing the number of units sold during the promotion period.\n",
    "•Promotion Type: Categorical variable indicating whether the product was sold via a lottery promotion or direct sale.\n",
    "•Customer Engagement: Continuous variables such as website traffic, click-through rates, and social media interactions during the promotion.\n",
    "I plan to explore how the Promotion Type affects Sales Volume by comparing sales data from periods when a lottery promotion was offered versus periods of direct sales. Visualizations like bar charts and box plots will be useful to display differences in sales volumes between the two promotion types. These visualizations are appropriate as they clearly depict comparisons of central tendency and dispersion between groups.\n",
    "Proposed Analysis\n",
    "I will perform an independent two-sample t-test to determine if there is a statistically significant difference in mean sales volumes between lottery promotions and direct sales. Before conducting the t-test, I will check for:\n",
    "•Normality: Using the Shapiro-Wilk test to ensure sales volume data in each group is approximately normally distributed.\n",
    "•Homogeneity of Variances: Using Levene's Test to confirm that variances are equal between groups.\n",
    "If assumptions are violated, a non-parametric test like the Mann-Whitney U test may be used.\n",
    "Hypothesis and Relevance\n",
    "•Hypothesis: Lottery promotions lead to higher sales volumes than direct sales due to increased customer interest and perceived added value.\n",
    "oNull Hypothesis (H0): There is no difference in mean sales volumes between lottery promotions and direct sales.\n",
    "oAlternative Hypothesis (H1): Mean sales volume during lottery promotions is higher than during direct sales.\n",
    "•Relevance: Demonstrating that lottery promotions increase sales can provide valuable insights for marketing strategies. If the hypothesis is confirmed, businesses might prefer lottery promotions to boost sales and enhance customer engagement.\n"
   ]
  },
  {
   "cell_type": "code",
   "execution_count": null,
   "id": "b283a545",
   "metadata": {},
   "outputs": [],
   "source": [
    "Analysis: Impact of Decreased University Cafeterias on Nearby Restaurant Numbers\n",
    "Research Question\n",
    "Does a reduction in the number of cafeterias at the University of Toronto lead to an increase in the number of restaurants in the surrounding campus area?\n",
    "Variables and Exploration\n",
    "•Number of University Cafeterias: Continuous variable representing the total number of operational cafeterias within the University of Toronto campuses over time.\n",
    "•Number of Nearby Restaurants: Continuous variable indicating the total number of restaurants operating in the vicinity of the campus over the same time periods.\n",
    "•Student Population: Control variable representing the number of students enrolled at the university during each time period, to account for changes in demand due to enrollment fluctuations.\n",
    "To explore these variables, I plan to collect data on the number of university cafeterias and nearby restaurants over several years. I will use line graphs to visualize trends over time for both variables. A scatter plot with a regression line may also be used to visualize the relationship between the number of cafeterias and the number of nearby restaurants. These visualizations are appropriate as they can effectively display trends over time and potential correlations between variables.\n",
    "Proposed Analysis\n",
    "I will perform a time-series analysis to assess the relationship between the decrease in university cafeterias and the number of nearby restaurants. Specifically, I plan to use:\n",
    "•Pearson Correlation Coefficient: To measure the strength and direction of the linear relationship between the two variables.\n",
    "•Linear Regression Analysis: To model the relationship and predict changes in the number of nearby restaurants based on changes in the number of university cafeterias, controlling for student population.\n",
    "Assumptions to Address:\n",
    "•Linearity: The relationship between the independent and dependent variables should be linear.\n",
    "•Independence of Observations: Each observation (time period) should be independent of others.\n",
    "•Homoscedasticity: The residuals should have constant variance at all levels of the independent variable.\n",
    "•Normality of Residuals: The residuals of the regression should be approximately normally distributed.\n",
    "I will check these assumptions using residual plots and statistical tests like the Durbin-Watson test for autocorrelation.\n",
    "Hypothesis and Relevance\n",
    "•Hypothesis: A decrease in the number of university cafeterias leads to an increase in the number of restaurants around the campus area as students and staff seek alternative dining options.\n",
    "oNull Hypothesis (H0): There is no significant relationship between the number of university cafeterias and the number of nearby restaurants.\n",
    "oAlternative Hypothesis (H1): There is a significant inverse relationship between the number of university cafeterias and the number of nearby restaurants.\n",
    "•Relevance: Understanding this relationship can inform university administrators and local business owners. If a reduction in on-campus dining options boosts nearby restaurant numbers, local businesses may benefit from such changes. Conversely, the university might consider the impact on student convenience and local economy when making decisions about campus dining facilities.\n"
   ]
  },
  {
   "cell_type": "code",
   "execution_count": null,
   "id": "7df17e90",
   "metadata": {},
   "outputs": [],
   "source": [
    "Analysis : Predicting House Prices Based on Location and Size\n",
    "Research Question\n",
    "Can we predict house prices based on their location and size (square footage)?\n",
    "Variables and Exploration\n",
    "•House Price: Continuous variable representing the sale price of houses.\n",
    "•Location: Categorical variable indicating the neighborhood or area where the house is located.\n",
    "•Size: Continuous variable representing the square footage of the house.\n",
    "I will create scatter plots of house prices against size for different locations to visualize how price varies with size in each area. This visualization helps in identifying trends and potential outliers in the data.\n",
    "Proposed Analysis\n",
    "I plan to perform multiple linear regression analysis with house price as the dependent variable and both location (encoded using dummy variables) and size as independent variables. Assumptions of linear regression, including linearity, independence, homoscedasticity, and normality of residuals, will be checked through residual plots and statistical tests.\n",
    "Hypothesis and Relevance\n",
    "•Hypothesis: House prices can be significantly predicted by their size and location, with both factors positively influencing the price.\n",
    "•Relevance: This analysis could aid real estate professionals and potential buyers in understanding the key factors that affect house pricing, leading to more informed decision-making.\n"
   ]
  }
 ],
 "metadata": {
  "kernelspec": {
   "display_name": "Python 3 (ipykernel)",
   "language": "python",
   "name": "python3"
  },
  "language_info": {
   "codemirror_mode": {
    "name": "ipython",
    "version": 3
   },
   "file_extension": ".py",
   "mimetype": "text/x-python",
   "name": "python",
   "nbconvert_exporter": "python",
   "pygments_lexer": "ipython3",
   "version": "3.11.6"
  }
 },
 "nbformat": 4,
 "nbformat_minor": 5
}
